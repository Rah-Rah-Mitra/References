{
 "cells": [
  {
   "cell_type": "code",
   "execution_count": 13,
   "metadata": {},
   "outputs": [],
   "source": [
    "import time, threading"
   ]
  },
  {
   "cell_type": "code",
   "execution_count": 14,
   "metadata": {},
   "outputs": [],
   "source": [
    "def calculate_sum_squares(n):\n",
    "    sum_squares = 0\n",
    "    for i in range(n):\n",
    "        sum_squares += i **2\n",
    "    print(sum_squares)\n",
    "    return sum_squares"
   ]
  },
  {
   "cell_type": "code",
   "execution_count": 15,
   "metadata": {},
   "outputs": [],
   "source": [
    "def sleep_a_little(seconds):\n",
    "    time.sleep(seconds)"
   ]
  },
  {
   "cell_type": "code",
   "execution_count": 16,
   "metadata": {},
   "outputs": [],
   "source": [
    "def main(): #without threading\n",
    "    calc_start_time = time.time()\n",
    "\n",
    "\n",
    "    for i in range(5):\n",
    "        calculate_sum_squares(i+1)*100000\n",
    "    print(\"\\n\"+'calculate sum of square took: ', time.time() - calc_start_time)\n",
    "\n",
    "    sleep_start_time = time.time()\n",
    "    for seconds in range(1,6):\n",
    "        sleep_a_little(seconds)\n",
    "\n",
    "    \n",
    "    print(\"\\n\"+'Sleep took: ',time.time() - sleep_start_time)"
   ]
  },
  {
   "cell_type": "code",
   "execution_count": 17,
   "metadata": {},
   "outputs": [],
   "source": [
    "def main(): #with threading\n",
    "    calc_start_time = time.time()\n",
    "\n",
    "    current_threads = []\n",
    "    for i in range(5): #create 5 threads\n",
    "        maximum_value = (i+1) * 100000\n",
    "        t = threading.Thread(target=calculate_sum_squares,kwargs={\"n\": maximum_value}, daemon=True) #daemon threads finish = whole program is done running\n",
    "        t.start()\n",
    "        current_threads.append(t)\n",
    "    \n",
    "    for i in range(len(current_threads)): #blocker, finish this thread before proceeding\n",
    "        current_threads[i].join()\n",
    "\n",
    "    print(\"\\n\"+'calculate sum of square took: ', time.time() - calc_start_time)\n",
    "\n",
    "    current_threads = []\n",
    "    sleep_start_time = time.time()\n",
    "    for seconds in range(1,6): #create 5 threads\n",
    "        t = threading.Thread(target=sleep_a_little, kwargs={\"seconds\": seconds}, daemon= True)\n",
    "        t.start()\n",
    "        current_threads.append(t) #thread execure after each\n",
    "\n",
    "    for i in range(len(current_threads)):#check if previous thread completed\n",
    "        current_threads[i].join()\n",
    "    \n",
    "    print(\"\\n\"+'Sleep took: ',time.time() - sleep_start_time)"
   ]
  },
  {
   "cell_type": "code",
   "execution_count": 18,
   "metadata": {},
   "outputs": [
    {
     "name": "stdout",
     "output_type": "stream",
     "text": [
      "333328333350000\n",
      "2666646666700000\n",
      "8999955000050000\n",
      "41666541666750000\n",
      "21333253333400000\n",
      "\n",
      "calculate sum of square took:  0.4906585216522217\n",
      "\n",
      "Sleep took:  5.004658222198486\n"
     ]
    }
   ],
   "source": [
    "if __name__ == \"__main__\":\n",
    "    main()"
   ]
  },
  {
   "cell_type": "code",
   "execution_count": null,
   "metadata": {},
   "outputs": [],
   "source": []
  }
 ],
 "metadata": {
  "kernelspec": {
   "display_name": "Python 3",
   "language": "python",
   "name": "python3"
  },
  "language_info": {
   "codemirror_mode": {
    "name": "ipython",
    "version": 3
   },
   "file_extension": ".py",
   "mimetype": "text/x-python",
   "name": "python",
   "nbconvert_exporter": "python",
   "pygments_lexer": "ipython3",
   "version": "3.10.6"
  },
  "orig_nbformat": 4
 },
 "nbformat": 4,
 "nbformat_minor": 2
}
