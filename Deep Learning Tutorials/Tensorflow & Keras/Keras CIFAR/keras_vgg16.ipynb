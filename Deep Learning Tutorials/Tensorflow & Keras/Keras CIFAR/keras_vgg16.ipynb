{
 "cells": [
  {
   "cell_type": "markdown",
   "metadata": {},
   "source": [
    "Setting up an VGG16 in Keras. This is quite the more compliated network, in that it goes even deeper, running convolutions over convolutions.\n",
    "\n",
    "Keras actually has a related repository https://github.com/keras-team/keras-applications/ where you can find a built in, and pretrained VGG16. We'll be implementing it ourselves to get more a sense of how it goes together."
   ]
  },
  {
   "cell_type": "code",
   "execution_count": 1,
   "metadata": {},
   "outputs": [],
   "source": [
    "import keras\n",
    "from keras.datasets import cifar10\n",
    "from keras.models import Sequential\n",
    "from keras.layers import Dense, Activation, Flatten, Reshape\n",
    "from keras.layers import Conv2D, MaxPooling2D, ZeroPadding2D\n",
    "import numpy as np"
   ]
  },
  {
   "cell_type": "markdown",
   "metadata": {},
   "source": [
    "Load up the CIFAR images, normalize the images on all color channels 0-1, and one hot encode the labels."
   ]
  },
  {
   "cell_type": "code",
   "execution_count": 2,
   "metadata": {},
   "outputs": [],
   "source": [
    "num_outputs = 10 # 10 output digits\n",
    "batch_size = 128 # mini batch\n",
    "epochs = 10 # total training loops\n",
    "learning_rate = 0.01 # amount we update parameters"
   ]
  },
  {
   "cell_type": "code",
   "execution_count": 3,
   "metadata": {},
   "outputs": [],
   "source": [
    "(train_images, train_labels), (test_images, test_labels) = cifar10.load_data()\n",
    "train_images = np.expand_dims(train_images / np.max(train_images), -1)\n",
    "test_images = np.expand_dims(test_images / np.max(test_images), -1)\n",
    "train_labels = keras.utils.to_categorical(train_labels, num_outputs)\n",
    "test_labels = keras.utils.to_categorical(test_labels, num_outputs)"
   ]
  },
  {
   "cell_type": "markdown",
   "metadata": {},
   "source": [
    "VGG16 has 5 blocks, each stacking convolutions. These double in filtering as they grow, which was inspired from older machine vision techniques of 'pyramids'. Think of the layers as forming a kind of step pyramid."
   ]
  },
  {
   "cell_type": "code",
   "execution_count": 8,
   "metadata": {},
   "outputs": [],
   "source": [
    "kernels = [3, 3, 3, 3, 3]\n",
    "filters = [64, 128, 256, 512, 512]\n",
    "repeats = [2, 2, 3, 3, 3]\n",
    "pooling = [2, 2, 2, 2, 2]\n",
    "strides = [2, 2, 2, 2, 2]\n",
    "dense_units = [4096, 4096]\n",
    "image_shape = train_images.shape[1:]"
   ]
  },
  {
   "cell_type": "markdown",
   "metadata": {},
   "source": [
    "This is a loop in a loop, adding convolutional layers end to end before taking a max pooling, looking for the strongest signals. This kind of pyramidal attenuation of filters is a relatively popular approach, and you will see this pattern appear in many different network architectures.\n",
    "\n",
    "We'll put in one placeholder layer to contain the image shape extracted frome the training data.\n",
    "\n",
    "Note the use of `same` padding. This actually will pad the images. We need to do this here so that the input image is in fact big enough to 'divide' this many times. You'll see we in the final convolution we end up with a very small x and y dimension.\n"
   ]
  },
  {
   "cell_type": "code",
   "execution_count": 13,
   "metadata": {},
   "outputs": [
    {
     "name": "stdout",
     "output_type": "stream",
     "text": [
      "_________________________________________________________________\n",
      "Layer (type)                 Output Shape              Param #   \n",
      "=================================================================\n",
      "reshape_8 (Reshape)          (None, 32, 32, 3)         0         \n",
      "_________________________________________________________________\n",
      "conv2d_36 (Conv2D)           (None, 30, 30, 64)        1792      \n",
      "_________________________________________________________________\n",
      "zero_padding2d_33 (ZeroPaddi (None, 32, 32, 64)        0         \n",
      "_________________________________________________________________\n",
      "conv2d_37 (Conv2D)           (None, 30, 30, 64)        36928     \n",
      "_________________________________________________________________\n",
      "zero_padding2d_34 (ZeroPaddi (None, 32, 32, 64)        0         \n",
      "_________________________________________________________________\n",
      "max_pooling2d_14 (MaxPooling (None, 16, 16, 64)        0         \n",
      "_________________________________________________________________\n",
      "zero_padding2d_35 (ZeroPaddi (None, 18, 18, 64)        0         \n",
      "_________________________________________________________________\n",
      "conv2d_38 (Conv2D)           (None, 16, 16, 128)       73856     \n",
      "_________________________________________________________________\n",
      "zero_padding2d_36 (ZeroPaddi (None, 18, 18, 128)       0         \n",
      "_________________________________________________________________\n",
      "conv2d_39 (Conv2D)           (None, 16, 16, 128)       147584    \n",
      "_________________________________________________________________\n",
      "zero_padding2d_37 (ZeroPaddi (None, 18, 18, 128)       0         \n",
      "_________________________________________________________________\n",
      "max_pooling2d_15 (MaxPooling (None, 9, 9, 128)         0         \n",
      "_________________________________________________________________\n",
      "zero_padding2d_38 (ZeroPaddi (None, 11, 11, 128)       0         \n",
      "_________________________________________________________________\n",
      "conv2d_40 (Conv2D)           (None, 9, 9, 256)         295168    \n",
      "_________________________________________________________________\n",
      "zero_padding2d_39 (ZeroPaddi (None, 11, 11, 256)       0         \n",
      "_________________________________________________________________\n",
      "conv2d_41 (Conv2D)           (None, 9, 9, 256)         590080    \n",
      "_________________________________________________________________\n",
      "zero_padding2d_40 (ZeroPaddi (None, 11, 11, 256)       0         \n",
      "_________________________________________________________________\n",
      "conv2d_42 (Conv2D)           (None, 9, 9, 256)         590080    \n",
      "_________________________________________________________________\n",
      "zero_padding2d_41 (ZeroPaddi (None, 11, 11, 256)       0         \n",
      "_________________________________________________________________\n",
      "max_pooling2d_16 (MaxPooling (None, 5, 5, 256)         0         \n",
      "_________________________________________________________________\n",
      "zero_padding2d_42 (ZeroPaddi (None, 7, 7, 256)         0         \n",
      "_________________________________________________________________\n",
      "conv2d_43 (Conv2D)           (None, 5, 5, 512)         1180160   \n",
      "_________________________________________________________________\n",
      "zero_padding2d_43 (ZeroPaddi (None, 7, 7, 512)         0         \n",
      "_________________________________________________________________\n",
      "conv2d_44 (Conv2D)           (None, 5, 5, 512)         2359808   \n",
      "_________________________________________________________________\n",
      "zero_padding2d_44 (ZeroPaddi (None, 7, 7, 512)         0         \n",
      "_________________________________________________________________\n",
      "conv2d_45 (Conv2D)           (None, 5, 5, 512)         2359808   \n",
      "_________________________________________________________________\n",
      "zero_padding2d_45 (ZeroPaddi (None, 7, 7, 512)         0         \n",
      "_________________________________________________________________\n",
      "max_pooling2d_17 (MaxPooling (None, 3, 3, 512)         0         \n",
      "_________________________________________________________________\n",
      "zero_padding2d_46 (ZeroPaddi (None, 5, 5, 512)         0         \n",
      "_________________________________________________________________\n",
      "conv2d_46 (Conv2D)           (None, 3, 3, 512)         2359808   \n",
      "_________________________________________________________________\n",
      "zero_padding2d_47 (ZeroPaddi (None, 5, 5, 512)         0         \n",
      "_________________________________________________________________\n",
      "conv2d_47 (Conv2D)           (None, 3, 3, 512)         2359808   \n",
      "_________________________________________________________________\n",
      "zero_padding2d_48 (ZeroPaddi (None, 5, 5, 512)         0         \n",
      "_________________________________________________________________\n",
      "conv2d_48 (Conv2D)           (None, 3, 3, 512)         2359808   \n",
      "_________________________________________________________________\n",
      "zero_padding2d_49 (ZeroPaddi (None, 5, 5, 512)         0         \n",
      "_________________________________________________________________\n",
      "max_pooling2d_18 (MaxPooling (None, 2, 2, 512)         0         \n",
      "_________________________________________________________________\n",
      "zero_padding2d_50 (ZeroPaddi (None, 4, 4, 512)         0         \n",
      "_________________________________________________________________\n",
      "flatten_3 (Flatten)          (None, 8192)              0         \n",
      "_________________________________________________________________\n",
      "dense_7 (Dense)              (None, 4096)              33558528  \n",
      "_________________________________________________________________\n",
      "dense_8 (Dense)              (None, 4096)              16781312  \n",
      "_________________________________________________________________\n",
      "dense_9 (Dense)              (None, 10)                40970     \n",
      "=================================================================\n",
      "Total params: 65,095,498\n",
      "Trainable params: 65,095,498\n",
      "Non-trainable params: 0\n",
      "_________________________________________________________________\n"
     ]
    }
   ],
   "source": [
    "vgg16 = Sequential()\n",
    "vgg16.add(Reshape(image_shape[:-1], input_shape=image_shape))\n",
    "for kernel, filter, pool, stride, repeat in zip(kernels, filters, pooling, strides, repeats):\n",
    "    for _ in range(0, repeat):\n",
    "        vgg16.add(Conv2D(filter, kernel, activation='relu'))\n",
    "        vgg16.add(ZeroPadding2D(kernel//2))\n",
    "    vgg16.add(MaxPooling2D(pool, strides=stride))\n",
    "    vgg16.add(ZeroPadding2D(kernel//2))\n",
    "    \n",
    "    \n",
    "vgg16.add(Flatten())\n",
    "\n",
    "for units in dense_units:\n",
    "    vgg16.add(Dense(units, activation='relu'))\n",
    "\n",
    "vgg16.add(Dense(num_outputs, activation='softmax'))\n",
    "vgg16.summary()"
   ]
  },
  {
   "cell_type": "markdown",
   "metadata": {},
   "source": [
    "And as always, learning is done with an optimizer and a loss function, learning a classifier with categorical cross entropy."
   ]
  },
  {
   "cell_type": "code",
   "execution_count": 14,
   "metadata": {},
   "outputs": [],
   "source": [
    "optimizer = keras.optimizers.SGD(lr=learning_rate)\n",
    "loss = keras.losses.categorical_crossentropy"
   ]
  },
  {
   "cell_type": "markdown",
   "metadata": {},
   "source": [
    "Now, keep in mind this is starting to be a pretty big model. If you train this on a CPU, it is *possible*, but it is going to take a very long time. I'm running on a GPU"
   ]
  },
  {
   "cell_type": "code",
   "execution_count": 15,
   "metadata": {},
   "outputs": [
    {
     "name": "stdout",
     "output_type": "stream",
     "text": [
      "Train on 50000 samples, validate on 10000 samples\n",
      "Epoch 1/10\n",
      "50000/50000 [==============================] - 33s 654us/step - loss: 2.3024 - acc: 0.1081 - val_loss: 2.3022 - val_acc: 0.1064\n",
      "Epoch 2/10\n",
      "50000/50000 [==============================] - 22s 438us/step - loss: 2.3020 - acc: 0.1259 - val_loss: 2.3017 - val_acc: 0.1507\n",
      "Epoch 3/10\n",
      "50000/50000 [==============================] - 21s 427us/step - loss: 2.3014 - acc: 0.1381 - val_loss: 2.3007 - val_acc: 0.1726\n",
      "Epoch 4/10\n",
      "50000/50000 [==============================] - 21s 429us/step - loss: 2.2998 - acc: 0.1640 - val_loss: 2.2981 - val_acc: 0.2144\n",
      "Epoch 5/10\n",
      "50000/50000 [==============================] - 22s 431us/step - loss: 2.2948 - acc: 0.1876 - val_loss: 2.2889 - val_acc: 0.1872\n",
      "Epoch 6/10\n",
      "50000/50000 [==============================] - 22s 440us/step - loss: 2.2680 - acc: 0.1857 - val_loss: 2.2195 - val_acc: 0.1861\n",
      "Epoch 7/10\n",
      "50000/50000 [==============================] - 22s 447us/step - loss: 2.1569 - acc: 0.1908 - val_loss: 2.0998 - val_acc: 0.2212\n",
      "Epoch 8/10\n",
      "50000/50000 [==============================] - 22s 438us/step - loss: 2.0727 - acc: 0.2261 - val_loss: 2.0089 - val_acc: 0.2360\n",
      "Epoch 9/10\n",
      "50000/50000 [==============================] - 22s 443us/step - loss: 2.0145 - acc: 0.2527 - val_loss: 2.0750 - val_acc: 0.2362\n",
      "Epoch 10/10\n",
      "50000/50000 [==============================] - 22s 437us/step - loss: 1.9771 - acc: 0.2700 - val_loss: 2.0158 - val_acc: 0.2458\n"
     ]
    }
   ],
   "source": [
    "vgg16.compile(loss=loss,\n",
    "              optimizer=optimizer,\n",
    "              metrics=['accuracy'])\n",
    "\n",
    "history = vgg16.fit(train_images, train_labels,\n",
    "                    batch_size=batch_size,\n",
    "                    epochs=epochs,\n",
    "                    validation_data=(test_images, test_labels))"
   ]
  },
  {
   "cell_type": "markdown",
   "metadata": {},
   "source": [
    "Notice that this is a less accurate model than AlexNet for 10 epochs. The network architecture matters, and not all parameters are created equal!\n",
    "\n",
    "However -- notice that the model is not overfit -- acc and val_acc are very close. We can simply keep training for more epochs until we flatline -- no longer improving the loss and accuracy. And will likely need to!"
   ]
  },
  {
   "cell_type": "code",
   "execution_count": null,
   "metadata": {},
   "outputs": [],
   "source": []
  }
 ],
 "metadata": {
  "kernelspec": {
   "display_name": "Python 3",
   "language": "python",
   "name": "python3"
  },
  "language_info": {
   "codemirror_mode": {
    "name": "ipython",
    "version": 3
   },
   "file_extension": ".py",
   "mimetype": "text/x-python",
   "name": "python",
   "nbconvert_exporter": "python",
   "pygments_lexer": "ipython3",
   "version": "3.11.2"
  }
 },
 "nbformat": 4,
 "nbformat_minor": 2
}
