{
 "cells": [
  {
   "cell_type": "markdown",
   "metadata": {},
   "source": [
    "Now - here is the multilayer perceptron solution in Keras. This ... is much simpler. In general, I'd recommend reaching for Keras as a great getting started tool."
   ]
  },
  {
   "cell_type": "code",
   "execution_count": 7,
   "metadata": {},
   "outputs": [],
   "source": [
    "from keras.layers import Input, Dense, Flatten\n",
    "from keras.models import Sequential\n",
    "from keras.datasets import mnist\n",
    "import numpy as np"
   ]
  },
  {
   "cell_type": "markdown",
   "metadata": {},
   "source": [
    "Here controlling the size of our network."
   ]
  },
  {
   "cell_type": "code",
   "execution_count": 2,
   "metadata": {},
   "outputs": [],
   "source": [
    "num_hidden = 256 # hidden layers\n",
    "num_outputs = 10 # 10 output digits\n",
    "batch_size = 64 # mini batch\n",
    "epochs = 10 # total training loops\n",
    "learning_rate = 0.01 # amount we update parameters"
   ]
  },
  {
   "cell_type": "markdown",
   "metadata": {},
   "source": [
    "MNIST digits. Keras has built in MNIST as well, with the one minor inconvenience of having the data in a raw format -- needing normalization"
   ]
  },
  {
   "cell_type": "code",
   "execution_count": 3,
   "metadata": {},
   "outputs": [
    {
     "name": "stdout",
     "output_type": "stream",
     "text": [
      "Downloading data from https://s3.amazonaws.com/img-datasets/mnist.npz\n",
      "11493376/11490434 [==============================] - 5s 0us/step\n"
     ]
    }
   ],
   "source": [
    "\n",
    "digits = mnist.load_data()\n",
    "(train_images, train_labels), (test_images, test_labels) = mnist.load_data()"
   ]
  },
  {
   "cell_type": "markdown",
   "metadata": {},
   "source": [
    "Here, normalizing the inputs on the range 0-1, and the output labels as one hot encoding. Recall that if you have digits -- 0-9, you will have 10 dimensions in your one hot array, that will be encoded 0 | 1 as a flag indicating *this one*."
   ]
  },
  {
   "cell_type": "code",
   "execution_count": 5,
   "metadata": {},
   "outputs": [],
   "source": [
    "train_images = np.expand_dims(train_images / np.max(train_images), -1) #adding colour channel\n",
    "test_images = np.expand_dims(test_images / np.max(test_images), -1)\n",
    "train_labels = keras.utils.to_categorical(train_labels, 10)\n",
    "test_labels = keras.utils.to_categorical(test_labels, 10)"
   ]
  },
  {
   "cell_type": "markdown",
   "metadata": {},
   "source": [
    "And now the model. We'll use sequential, which is like a simple layer cake.\n",
    "\n",
    "One simplifying trick, extracting the input shape from the ver first sample. This saves a bunch of mismatched constants and magic numbers.\n",
    "\n",
    "Notice we must specify the input shape, unlike MxNet, Keras needs to be told a bit more up front.\n",
    "\n",
    "We will also need to `Flatten` before output, to turn the 2D 28 * 28 image into a linear array, so we can squeeze that down to a linear one-hot array of 10 position flags."
   ]
  },
  {
   "cell_type": "code",
   "execution_count": 8,
   "metadata": {},
   "outputs": [
    {
     "name": "stdout",
     "output_type": "stream",
     "text": [
      "_________________________________________________________________\n",
      "Layer (type)                 Output Shape              Param #   \n",
      "=================================================================\n",
      "dense_1 (Dense)              (None, 28, 28, 256)       512       \n",
      "_________________________________________________________________\n",
      "dense_2 (Dense)              (None, 28, 28, 256)       65792     \n",
      "_________________________________________________________________\n",
      "flatten_1 (Flatten)          (None, 200704)            0         \n",
      "_________________________________________________________________\n",
      "dense_3 (Dense)              (None, 10)                2007050   \n",
      "=================================================================\n",
      "Total params: 2,073,354\n",
      "Trainable params: 2,073,354\n",
      "Non-trainable params: 0\n",
      "_________________________________________________________________\n"
     ]
    }
   ],
   "source": [
    "input_shape = train_images[0].shape\n",
    "model = Sequential()\n",
    "model.add(Dense(num_hidden, activation='relu', input_shape=input_shape))\n",
    "model.add(Dense(num_hidden, activation='relu'))\n",
    "model.add(Flatten())\n",
    "model.add(Dense(num_outputs, activation='softmax'))\n",
    "\n",
    "model.summary()"
   ]
  },
  {
   "cell_type": "markdown",
   "metadata": {},
   "source": [
    "As always, a loss function and an optimizer."
   ]
  },
  {
   "cell_type": "code",
   "execution_count": 14,
   "metadata": {},
   "outputs": [],
   "source": [
    "optimizer = keras.optimizers.SGD(lr=learning_rate)\n",
    "loss = keras.losses.categorical_crossentropy"
   ]
  },
  {
   "cell_type": "markdown",
   "metadata": {},
   "source": [
    "And this is the best part of Keras in my opinion, the simple, declarative compilation and training loop. In fact -- there is no visible 'loop', you just tell it what to do, not how to do it!"
   ]
  },
  {
   "cell_type": "code",
   "execution_count": 15,
   "metadata": {},
   "outputs": [
    {
     "name": "stdout",
     "output_type": "stream",
     "text": [
      "Train on 60000 samples, validate on 10000 samples\n",
      "Epoch 1/10\n",
      "60000/60000 [==============================] - 337s 6ms/step - loss: 0.6007 - acc: 0.8558 - val_loss: 0.3171 - val_acc: 0.9099\n",
      "Epoch 2/10\n",
      "60000/60000 [==============================] - 425s 7ms/step - loss: 0.3137 - acc: 0.9111 - val_loss: 0.3002 - val_acc: 0.9151\n",
      "Epoch 3/10\n",
      "60000/60000 [==============================] - 299s 5ms/step - loss: 0.2955 - acc: 0.9161 - val_loss: 0.2963 - val_acc: 0.9169\n",
      "Epoch 4/10\n",
      "60000/60000 [==============================] - 291s 5ms/step - loss: 0.2866 - acc: 0.9190 - val_loss: 0.2991 - val_acc: 0.9128\n",
      "Epoch 5/10\n",
      "60000/60000 [==============================] - 303s 5ms/step - loss: 0.2806 - acc: 0.9202 - val_loss: 0.2760 - val_acc: 0.9188\n",
      "Epoch 6/10\n",
      "60000/60000 [==============================] - 307s 5ms/step - loss: 0.2761 - acc: 0.9224 - val_loss: 0.2760 - val_acc: 0.9196\n",
      "Epoch 7/10\n",
      "60000/60000 [==============================] - 303s 5ms/step - loss: 0.2726 - acc: 0.9238 - val_loss: 0.2781 - val_acc: 0.9207\n",
      "Epoch 8/10\n",
      "60000/60000 [==============================] - 302s 5ms/step - loss: 0.2707 - acc: 0.9247 - val_loss: 0.2843 - val_acc: 0.9187\n",
      "Epoch 9/10\n",
      "60000/60000 [==============================] - 304s 5ms/step - loss: 0.2679 - acc: 0.9251 - val_loss: 0.2892 - val_acc: 0.9179\n",
      "Epoch 10/10\n",
      "60000/60000 [==============================] - 304s 5ms/step - loss: 0.2664 - acc: 0.9262 - val_loss: 0.2802 - val_acc: 0.9201\n"
     ]
    }
   ],
   "source": [
    "model.compile(loss=loss,\n",
    "              optimizer=optimizer,\n",
    "              metrics=['accuracy'])\n",
    "\n",
    "history = model.fit(train_images, train_labels,\n",
    "                    batch_size=batch_size,\n",
    "                    epochs=epochs,\n",
    "                    validation_data=(test_images, test_labels))"
   ]
  },
  {
   "cell_type": "markdown",
   "metadata": {},
   "source": [
    "Now that is a simplified set of code to do deep learning!"
   ]
  }
 ],
 "metadata": {
  "kernelspec": {
   "display_name": "Python 3",
   "language": "python",
   "name": "python3"
  },
  "language_info": {
   "codemirror_mode": {
    "name": "ipython",
    "version": 3
   },
   "file_extension": ".py",
   "mimetype": "text/x-python",
   "name": "python",
   "nbconvert_exporter": "python",
   "pygments_lexer": "ipython3",
   "version": "3.11.2"
  }
 },
 "nbformat": 4,
 "nbformat_minor": 2
}
