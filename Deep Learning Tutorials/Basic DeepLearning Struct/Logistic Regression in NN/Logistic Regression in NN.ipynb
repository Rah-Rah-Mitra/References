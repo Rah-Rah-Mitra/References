{
 "cells": [
  {
   "cell_type": "code",
   "execution_count": 1,
   "metadata": {},
   "outputs": [],
   "source": [
    "import sklearn.datasets\n",
    "import keras\n",
    "import numpy as np"
   ]
  },
  {
   "cell_type": "markdown",
   "metadata": {},
   "source": [
    "We'll use a classic data set about adult incomes (https://www.csie.ntu.edu.tw/~cjlin/libsvmtools/datasets/binary.html). This is already pre-processed into a machine learning uesable format, with categories expressed as 0 or 1 flag features.\n",
    "\n",
    "And -- SciKit Learn -- sklearn -- has the ability to load this file format. In general always remember to check if sklearn does what you need. It's a huge timesaver!"
   ]
  },
  {
   "cell_type": "code",
   "execution_count": 2,
   "metadata": {},
   "outputs": [],
   "source": [
    "features, labels = sklearn.datasets.load_svmlight_file('./a1a.txt')"
   ]
  },
  {
   "cell_type": "markdown",
   "metadata": {},
   "source": [
    "Loading up the load data and exploring the columns"
   ]
  },
  {
   "cell_type": "code",
   "execution_count": 3,
   "metadata": {},
   "outputs": [
    {
     "data": {
      "text/plain": [
       "(1605, 119)"
      ]
     },
     "execution_count": 3,
     "metadata": {},
     "output_type": "execute_result"
    }
   ],
   "source": [
    "features.shape"
   ]
  },
  {
   "cell_type": "code",
   "execution_count": 4,
   "metadata": {},
   "outputs": [
    {
     "data": {
      "text/plain": [
       "matrix([[0., 0., 1., 0., 0., 0., 0., 0., 0., 0., 1., 0., 0., 1., 0., 0.,\n",
       "         0., 0., 1., 0., 0., 0., 0., 0., 0., 0., 0., 0., 0., 0., 0., 0.,\n",
       "         0., 0., 0., 0., 0., 0., 1., 0., 0., 1., 0., 0., 0., 0., 0., 0.,\n",
       "         0., 0., 0., 0., 0., 0., 1., 0., 0., 0., 0., 0., 0., 0., 0., 1.,\n",
       "         0., 0., 1., 0., 0., 0., 0., 0., 1., 0., 1., 1., 0., 0., 0., 1.,\n",
       "         0., 0., 1., 0., 0., 0., 0., 0., 0., 0., 0., 0., 0., 0., 0., 0.,\n",
       "         0., 0., 0., 0., 0., 0., 0., 0., 0., 0., 0., 0., 0., 0., 0., 0.,\n",
       "         0., 0., 0., 0., 0., 0., 0.]])"
      ]
     },
     "execution_count": 4,
     "metadata": {},
     "output_type": "execute_result"
    }
   ],
   "source": [
    "features[0].todense() #0-1 to see if a particular attribute i present in a certain sample"
   ]
  },
  {
   "cell_type": "code",
   "execution_count": 5,
   "metadata": {},
   "outputs": [
    {
     "data": {
      "text/plain": [
       "array([0., 0., 0., 0., 0., 0., 0., 0., 0., 1.])"
      ]
     },
     "execution_count": 5,
     "metadata": {},
     "output_type": "execute_result"
    }
   ],
   "source": [
    "labels[0:10] # labels are present but machine is unable to tell if the outputs are distinct"
   ]
  },
  {
   "cell_type": "markdown",
   "metadata": {},
   "source": [
    "Our features are all set -- on the range 0-1, but we need to transform the output labels to one-hot classes, so that there are two distinct output possibilities -- effectively yes and no."
   ]
  },
  {
   "cell_type": "code",
   "execution_count": 6,
   "metadata": {},
   "outputs": [],
   "source": [
    "one_hot_labels = keras.utils.to_categorical(labels).astype(np.float32) #onehot encoding"
   ]
  },
  {
   "cell_type": "code",
   "execution_count": 7,
   "metadata": {},
   "outputs": [
    {
     "data": {
      "text/plain": [
       "array([[1., 0.],\n",
       "       [1., 0.],\n",
       "       [1., 0.],\n",
       "       [1., 0.],\n",
       "       [1., 0.],\n",
       "       [1., 0.],\n",
       "       [1., 0.],\n",
       "       [1., 0.],\n",
       "       [1., 0.],\n",
       "       [0., 1.]], dtype=float32)"
      ]
     },
     "execution_count": 7,
     "metadata": {},
     "output_type": "execute_result"
    }
   ],
   "source": [
    "one_hot_labels[0:10] #now it show if the label is either yes or no"
   ]
  },
  {
   "cell_type": "code",
   "execution_count": 8,
   "metadata": {},
   "outputs": [
    {
     "name": "stdout",
     "output_type": "stream",
     "text": [
      "Epoch 1/16\n",
      "1605/1605 [==============================] - 0s 143us/step - loss: 0.5635\n",
      "Epoch 2/16\n",
      "1605/1605 [==============================] - 0s 79us/step - loss: 0.4628\n",
      "Epoch 3/16\n",
      "1605/1605 [==============================] - 0s 79us/step - loss: 0.4186\n",
      "Epoch 4/16\n",
      "1605/1605 [==============================] - 0s 80us/step - loss: 0.3937\n",
      "Epoch 5/16\n",
      "1605/1605 [==============================] - 0s 84us/step - loss: 0.3774\n",
      "Epoch 6/16\n",
      "1605/1605 [==============================] - 0s 81us/step - loss: 0.3666\n",
      "Epoch 7/16\n",
      "1605/1605 [==============================] - 0s 78us/step - loss: 0.3588\n",
      "Epoch 8/16\n",
      "1605/1605 [==============================] - 0s 79us/step - loss: 0.3526\n",
      "Epoch 9/16\n",
      "1605/1605 [==============================] - 0s 78us/step - loss: 0.3478\n",
      "Epoch 10/16\n",
      "1605/1605 [==============================] - 0s 79us/step - loss: 0.3441\n",
      "Epoch 11/16\n",
      "1605/1605 [==============================] - 0s 85us/step - loss: 0.3406\n",
      "Epoch 12/16\n",
      "1605/1605 [==============================] - 0s 80us/step - loss: 0.3378\n",
      "Epoch 13/16\n",
      "1605/1605 [==============================] - 0s 79us/step - loss: 0.3357\n",
      "Epoch 14/16\n",
      "1605/1605 [==============================] - 0s 80us/step - loss: 0.3332\n",
      "Epoch 15/16\n",
      "1605/1605 [==============================] - 0s 82us/step - loss: 0.3316\n",
      "Epoch 16/16\n",
      "1605/1605 [==============================] - 0s 87us/step - loss: 0.3298\n"
     ]
    },
    {
     "data": {
      "text/plain": [
       "<keras.callbacks.History at 0x7f128adb45f8>"
      ]
     },
     "execution_count": 8,
     "metadata": {},
     "output_type": "execute_result"
    }
   ],
   "source": [
    "model = keras.models.Sequential()\n",
    "# logistic regression is a one layer model\n",
    "model.add(keras.layers.Dense(one_hot_labels.shape[1], activation='softmax', input_dim=features.shape[1])) #take the second label for onehotlabel\n",
    "model.compile(optimizer='adam', loss='categorical_crossentropy')\n",
    "model.fit(features, one_hot_labels, epochs=16, batch_size=16)"
   ]
  },
  {
   "cell_type": "markdown",
   "metadata": {},
   "source": [
    "And here -- we can see how accurate this model predicts the training data."
   ]
  },
  {
   "cell_type": "code",
   "execution_count": 9,
   "metadata": {},
   "outputs": [],
   "source": [
    "predictions = model.predict_classes(features)"
   ]
  },
  {
   "cell_type": "code",
   "execution_count": 10,
   "metadata": {},
   "outputs": [
    {
     "name": "stdout",
     "output_type": "stream",
     "text": [
      "0.8398753894080997\n"
     ]
    }
   ],
   "source": [
    "import sklearn.metrics\n",
    "print(sklearn.metrics.accuracy_score(labels, predictions))"
   ]
  },
  {
   "cell_type": "markdown",
   "metadata": {},
   "source": [
    "Hmm -- that seems good, but let's make sure that the model -- actually can predict both classes."
   ]
  },
  {
   "cell_type": "code",
   "execution_count": 11,
   "metadata": {},
   "outputs": [
    {
     "name": "stdout",
     "output_type": "stream",
     "text": [
      "             precision    recall  f1-score   support\n",
      "\n",
      "        0.0       0.87      0.93      0.90      1210\n",
      "        1.0       0.72      0.57      0.64       395\n",
      "\n",
      "avg / total       0.83      0.84      0.83      1605\n",
      "\n"
     ]
    }
   ],
   "source": [
    "print(sklearn.metrics.classification_report(labels, predictions)) # gives a classification report\n",
    "#Precision = How often is it Right\n",
    "#Recall = Out of all the possible right answers how many did it get correct"
   ]
  },
  {
   "cell_type": "markdown",
   "metadata": {},
   "source": [
    "Aha - it does. Not with fantastic accuracy, but this is only one layer 'deep' -- so this is a shallow model."
   ]
  },
  {
   "cell_type": "code",
   "execution_count": null,
   "metadata": {},
   "outputs": [],
   "source": []
  }
 ],
 "metadata": {
  "kernelspec": {
   "display_name": "Python 3",
   "language": "python",
   "name": "python3"
  },
  "language_info": {
   "codemirror_mode": {
    "name": "ipython",
    "version": 3
   },
   "file_extension": ".py",
   "mimetype": "text/x-python",
   "name": "python",
   "nbconvert_exporter": "python",
   "pygments_lexer": "ipython3",
   "version": "3.11.2"
  }
 },
 "nbformat": 4,
 "nbformat_minor": 2
}
