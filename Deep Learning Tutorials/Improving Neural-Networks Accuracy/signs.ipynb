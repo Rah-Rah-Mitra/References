{
 "cells": [
  {
   "cell_type": "markdown",
   "metadata": {},
   "source": [
    "This notebook will take a few gigs -- so make sure you have Docker set to allow at least 4G of RAM -- and that you have 4G of RAM!\n",
    "\n",
    "Now something completely different -- street signs. This is a bit more real world machine vision problem as it relates to self driving cars. Lots more to self driving cars than just signs -- but you need to understand the signs!"
   ]
  },
  {
   "cell_type": "code",
   "execution_count": 1,
   "metadata": {},
   "outputs": [
    {
     "name": "stderr",
     "output_type": "stream",
     "text": [
      "/opt/conda/lib/python3.6/site-packages/h5py/__init__.py:36: FutureWarning: Conversion of the second argument of issubdtype from `float` to `np.floating` is deprecated. In future, it will be treated as `np.float64 == np.dtype(float).type`.\n",
      "  from ._conv import register_converters as _register_converters\n",
      "Using TensorFlow backend.\n"
     ]
    }
   ],
   "source": [
    "import numpy as np\n",
    "import matplotlib.pyplot as plt\n",
    "import math\n",
    "\n",
    "import keras\n",
    "from keras.datasets import mnist\n",
    "from keras.layers import Input, Dense, Flatten, MaxPooling2D, MaxPooling1D, Conv2D, Reshape, Dropout\n",
    "from keras.layers import BatchNormalization, ZeroPadding2D\n",
    "from keras.models import Model, Sequential\n",
    "from keras import regularizers\n",
    "import numpy as np\n",
    "import matplotlib.pyplot as plt\n",
    "import csv\n",
    "import zipfile\n",
    "from skimage.transform import resize\n",
    "from sklearn.metrics import classification_report"
   ]
  },
  {
   "cell_type": "markdown",
   "metadata": {},
   "source": [
    "Download signs data. This uses a bit of under the hood keras to locally cache the files."
   ]
  },
  {
   "cell_type": "code",
   "execution_count": 2,
   "metadata": {},
   "outputs": [
    {
     "name": "stdout",
     "output_type": "stream",
     "text": [
      "Downloading data from http://benchmark.ini.rub.de/Dataset/GTSRB-Training_fixed.zip\n",
      "187490304/187490228 [==============================] - 51s 0us/step\n",
      "Downloading data from http://benchmark.ini.rub.de/Dataset/GTSRB_Online-Test-Images.zip\n",
      "88612864/88610452 [==============================] - 18s 0us/step\n",
      "Downloading data from http://benchmark.ini.rub.de/Dataset/GTSRB_Online-Test-GT.zip\n",
      "106496/104454 [==============================] - 1s 5us/step\n"
     ]
    }
   ],
   "source": [
    "training_path = keras.utils.data_utils.get_file('training.zip',\n",
    "    origin='http://benchmark.ini.rub.de/Dataset/GTSRB-Training_fixed.zip')\n",
    "testing_path = keras.utils.data_utils.get_file('testing.zip',\n",
    "    origin='http://benchmark.ini.rub.de/Dataset/GTSRB_Online-Test-Images.zip')\n",
    "testing_classes_path = keras.utils.data_utils.get_file('testing_classes.zip',\n",
    "    origin='http://benchmark.ini.rub.de/Dataset/GTSRB_Online-Test-GT.zip')"
   ]
  },
  {
   "cell_type": "markdown",
   "metadata": {},
   "source": [
    "These are zip files full of images, so we'll need to do some pre-processing. Need to create an (image, x, y, color) dataset of all the images, and an (image, one-hot-class) dataset of all the labels."
   ]
  },
  {
   "cell_type": "code",
   "execution_count": 3,
   "metadata": {},
   "outputs": [],
   "source": [
    "def read_image(path_to_image):\n",
    "    raw_image_matrix = plt.imread(path_to_image)\n",
    "    image_matrix = resize(raw_image_matrix, (32, 32), mode='constant')\n",
    "    return image_matrix\n",
    "\n",
    "def read_train_images(path_to_zip_file):\n",
    "    extract_to = '{0}.d'.format(path_to_zip_file)\n",
    "    with zipfile.ZipFile(path_to_zip_file, 'r') as zip_ref:\n",
    "        zip_ref.extractall(extract_to)\n",
    "\n",
    "    images = [] # images\n",
    "    labels = [] # corresponding labels\n",
    "    # loop over all numbered classes\n",
    "    for c in range(0, 43):\n",
    "        prefix = '{0}/GTSRB/Training/{1}/'.format(extract_to, format(c, '05d'))\n",
    "        with open('{0}GT-{1}.csv'.format(prefix, format(c, '05d'))) as image_annotations:\n",
    "            gtReader = csv.reader(image_annotations, delimiter=';')\n",
    "            next(gtReader) # skip header\n",
    "            for image_data in gtReader:\n",
    "                # the 1th column is the filename\n",
    "                images.append(read_image('{0}{1}'.format(prefix, image_data[0]))) \n",
    "                # the 8th column is the label\n",
    "                labels.append(image_data[7]) \n",
    "\n",
    "    return np.asarray(images), keras.utils.to_categorical(labels, 43)"
   ]
  },
  {
   "cell_type": "code",
   "execution_count": 4,
   "metadata": {},
   "outputs": [],
   "source": [
    "train_images, train_labels = read_train_images(training_path)"
   ]
  },
  {
   "cell_type": "markdown",
   "metadata": {},
   "source": [
    "Let's take a peek at these images and get a sense of the shape."
   ]
  },
  {
   "cell_type": "code",
   "execution_count": 5,
   "metadata": {},
   "outputs": [
    {
     "data": {
      "text/plain": [
       "(26640, 32, 32, 3)"
      ]
     },
     "execution_count": 5,
     "metadata": {},
     "output_type": "execute_result"
    },
    {
     "data": {
      "image/png": "[encoded data removed]",
      "text/plain": [
       "<Figure size 432x288 with 10 Axes>"
      ]
     },
     "metadata": {},
     "output_type": "display_data"
    }
   ],
   "source": [
    "fig = plt.figure()\n",
    "for i in range(0, 10):\n",
    "    ax = fig.add_subplot(1, 10, i+1)\n",
    "    ax.imshow(train_images[i*10])\n",
    "    plt.axis('off')\n",
    "train_images.shape"
   ]
  },
  {
   "cell_type": "markdown",
   "metadata": {},
   "source": [
    "Unfortunately -- the directory structure is different for the training data, so we'll have some mildly repetetive code."
   ]
  },
  {
   "cell_type": "code",
   "execution_count": 6,
   "metadata": {},
   "outputs": [],
   "source": [
    "def read_test_images(testing_path, testing_classes_path):\n",
    "    images = [] # images\n",
    "    labels = [] # corresponding labels\n",
    "    \n",
    "    extract_classes_to = '{0}.d/'.format(testing_classes_path)\n",
    "    with zipfile.ZipFile(testing_classes_path, 'r') as zip_ref:\n",
    "        zip_ref.extractall(extract_classes_to)\n",
    "        \n",
    "    extract_images_to = '{0}.d/'.format(testing_path)\n",
    "    with zipfile.ZipFile(testing_path, 'r') as zip_ref:\n",
    "        zip_ref.extractall(extract_images_to)\n",
    "        \n",
    "    prefix = '{0}/GTSRB/Online-Test/Images/'.format(extract_images_to)\n",
    "        \n",
    "    with open('{0}GT-online_test.csv'.format(extract_classes_to)) as image_annotations:\n",
    "        gtReader = csv.reader(image_annotations, delimiter=';')\n",
    "        next(gtReader) # skip header\n",
    "        for image_data in gtReader:\n",
    "            # the 1th column is the filename\n",
    "            images.append(read_image('{0}{1}'.format(prefix, image_data[0]))) \n",
    "            # the 8th column is the label\n",
    "            labels.append(image_data[7]) \n",
    "            \n",
    "    return np.asarray(images), keras.utils.to_categorical(labels, 43)"
   ]
  },
  {
   "cell_type": "code",
   "execution_count": 7,
   "metadata": {},
   "outputs": [],
   "source": [
    "test_images, test_labels = read_test_images(testing_path, testing_classes_path)"
   ]
  },
  {
   "cell_type": "markdown",
   "metadata": {},
   "source": [
    "OK -- now with our testing and training data in hand, let's make some models, starting with a straightforward ConvNet, then we'll move on to some more complex models and compare their accuracy!"
   ]
  },
  {
   "cell_type": "code",
   "execution_count": 8,
   "metadata": {},
   "outputs": [],
   "source": [
    "number_of_classes = 43\n",
    "batch_size = 32"
   ]
  },
  {
   "cell_type": "code",
   "execution_count": 9,
   "metadata": {},
   "outputs": [
    {
     "name": "stdout",
     "output_type": "stream",
     "text": [
      "Train on 26640 samples, validate on 12569 samples\n",
      "Epoch 1/8\n",
      "26640/26640 [==============================] - 11s 428us/step - loss: 0.7649 - acc: 0.7945 - val_loss: 0.4082 - val_acc: 0.8986\n",
      "Epoch 2/8\n",
      "26640/26640 [==============================] - 8s 299us/step - loss: 0.1140 - acc: 0.9696 - val_loss: 0.3561 - val_acc: 0.9102\n",
      "Epoch 3/8\n",
      "26640/26640 [==============================] - 8s 301us/step - loss: 0.0637 - acc: 0.9822 - val_loss: 0.2556 - val_acc: 0.9363\n",
      "Epoch 4/8\n",
      "26640/26640 [==============================] - 8s 295us/step - loss: 0.0338 - acc: 0.9914 - val_loss: 0.4783 - val_acc: 0.8994\n",
      "Epoch 5/8\n",
      "26640/26640 [==============================] - 8s 299us/step - loss: 0.0420 - acc: 0.9877 - val_loss: 0.3453 - val_acc: 0.9267\n",
      "Epoch 6/8\n",
      "26640/26640 [==============================] - 8s 298us/step - loss: 0.0273 - acc: 0.9929 - val_loss: 0.3189 - val_acc: 0.9239\n",
      "Epoch 7/8\n",
      "26640/26640 [==============================] - 8s 292us/step - loss: 0.0237 - acc: 0.9941 - val_loss: 0.2977 - val_acc: 0.9387\n",
      "Epoch 8/8\n",
      "26640/26640 [==============================] - 8s 298us/step - loss: 0.0286 - acc: 0.9922 - val_loss: 0.3097 - val_acc: 0.9318\n"
     ]
    },
    {
     "data": {
      "text/plain": [
       "<keras.callbacks.History at 0x7f7e506d6400>"
      ]
     },
     "execution_count": 9,
     "metadata": {},
     "output_type": "execute_result"
    }
   ],
   "source": [
    "input_shape = train_images[0].shape\n",
    "\n",
    "\n",
    "model = Sequential()\n",
    "model.add(Reshape(input_shape, input_shape=input_shape))\n",
    "model.add(Conv2D(32, kernel_size=(3, 3), activation='relu'))\n",
    "model.add(Conv2D(64, (3, 3), activation='relu'))\n",
    "model.add(MaxPooling2D(pool_size=(2, 2)))\n",
    "model.add(Flatten())\n",
    "model.add(Dense(128, activation='relu'))\n",
    "model.add(Dense(128, activation='relu'))\n",
    "model.add(Dense(number_of_classes, activation='softmax'))\n",
    "\n",
    "\n",
    "model.compile(loss='categorical_crossentropy',\n",
    "              optimizer='adam',\n",
    "              metrics=['accuracy'])\n",
    "model.fit(train_images, train_labels,\n",
    "          batch_size=batch_size,\n",
    "          epochs=8,\n",
    "          validation_data=(test_images, test_labels))"
   ]
  },
  {
   "cell_type": "markdown",
   "metadata": {},
   "source": [
    "Let's take a look at a classification report and see how well we are balanced in our predictions."
   ]
  },
  {
   "cell_type": "code",
   "execution_count": 10,
   "metadata": {},
   "outputs": [
    {
     "name": "stdout",
     "output_type": "stream",
     "text": [
      "             precision    recall  f1-score   support\n",
      "\n",
      "          0       1.00      0.68      0.81        60\n",
      "          1       0.89      0.97      0.93       720\n",
      "          2       0.99      0.90      0.94       750\n",
      "          3       0.98      0.92      0.95       450\n",
      "          4       0.94      0.92      0.93       660\n",
      "          5       0.90      0.93      0.91       600\n",
      "          6       0.93      0.94      0.94       120\n",
      "          7       0.95      0.98      0.97       480\n",
      "          8       0.96      0.90      0.93       450\n",
      "          9       0.90      0.99      0.94       480\n",
      "         10       1.00      0.92      0.96       660\n",
      "         11       0.91      0.94      0.93       420\n",
      "         12       0.81      1.00      0.89       690\n",
      "         13       1.00      0.94      0.97       720\n",
      "         14       0.88      0.97      0.92       240\n",
      "         15       0.88      0.91      0.90       210\n",
      "         16       0.98      1.00      0.99       120\n",
      "         17       0.98      0.92      0.95       360\n",
      "         18       0.97      0.86      0.91       390\n",
      "         19       0.97      0.97      0.97        60\n",
      "         20       0.96      0.88      0.92       120\n",
      "         21       0.95      0.58      0.72        90\n",
      "         22       0.97      0.87      0.92       120\n",
      "         23       0.80      0.93      0.86       150\n",
      "         24       0.97      0.83      0.90        90\n",
      "         25       0.95      0.96      0.96       480\n",
      "         26       0.68      0.98      0.81       180\n",
      "         27       0.84      0.88      0.86        60\n",
      "         28       1.00      0.85      0.92       180\n",
      "         29       0.77      0.83      0.80        90\n",
      "         30       0.90      0.89      0.89       150\n",
      "         31       0.99      0.93      0.96       240\n",
      "         32       0.97      0.98      0.98        60\n",
      "         33       0.97      1.00      0.98       209\n",
      "         34       0.97      0.97      0.97       120\n",
      "         35       0.99      0.98      0.99       390\n",
      "         36       0.97      1.00      0.98       120\n",
      "         37       0.94      1.00      0.97        60\n",
      "         38       0.99      0.92      0.95       690\n",
      "         39       0.99      0.89      0.94        90\n",
      "         40       0.99      0.69      0.81       120\n",
      "         41       0.87      1.00      0.93        60\n",
      "         42       0.70      1.00      0.82        60\n",
      "\n",
      "avg / total       0.94      0.93      0.93     12569\n",
      "\n"
     ]
    }
   ],
   "source": [
    "y_true, y_pred = np.argmax(test_labels, axis=1), np.argmax(model.predict(test_images), axis=1)\n",
    "print(classification_report(y_true, y_pred))"
   ]
  },
  {
   "cell_type": "markdown",
   "metadata": {},
   "source": [
    "Good news -- that is fairly balanced -- but it is clearly overfit! Let's use what we've learned about normalization and regularization to make it more accurate. \n",
    "\n",
    "Let's add in Dropout to regularize the network -- the goal here being to narrow the gap between training and validation accuracy."
   ]
  },
  {
   "cell_type": "code",
   "execution_count": 11,
   "metadata": {},
   "outputs": [
    {
     "name": "stdout",
     "output_type": "stream",
     "text": [
      "Train on 26640 samples, validate on 12569 samples\n",
      "Epoch 1/8\n",
      "26640/26640 [==============================] - 10s 378us/step - loss: 1.6474 - acc: 0.5245 - val_loss: 0.6239 - val_acc: 0.8487\n",
      "Epoch 2/8\n",
      "26640/26640 [==============================] - 9s 347us/step - loss: 0.5358 - acc: 0.8289 - val_loss: 0.3423 - val_acc: 0.9111\n",
      "Epoch 3/8\n",
      "26640/26640 [==============================] - 9s 340us/step - loss: 0.3484 - acc: 0.8902 - val_loss: 0.2957 - val_acc: 0.9283\n",
      "Epoch 4/8\n",
      "26640/26640 [==============================] - 9s 345us/step - loss: 0.2527 - acc: 0.9200 - val_loss: 0.1989 - val_acc: 0.9449\n",
      "Epoch 5/8\n",
      "26640/26640 [==============================] - 9s 341us/step - loss: 0.2036 - acc: 0.9334 - val_loss: 0.2143 - val_acc: 0.9433\n",
      "Epoch 6/8\n",
      "26640/26640 [==============================] - 9s 341us/step - loss: 0.1776 - acc: 0.9443 - val_loss: 0.1851 - val_acc: 0.9470\n",
      "Epoch 7/8\n",
      "26640/26640 [==============================] - 9s 339us/step - loss: 0.1479 - acc: 0.9528 - val_loss: 0.1767 - val_acc: 0.9523\n",
      "Epoch 8/8\n",
      "26640/26640 [==============================] - 9s 346us/step - loss: 0.1291 - acc: 0.9592 - val_loss: 0.2029 - val_acc: 0.9457\n"
     ]
    },
    {
     "data": {
      "text/plain": [
       "<keras.callbacks.History at 0x7f7e5038e588>"
      ]
     },
     "execution_count": 11,
     "metadata": {},
     "output_type": "execute_result"
    }
   ],
   "source": [
    "dropout = 0.25\n",
    "\n",
    "model = Sequential()\n",
    "model.add(Reshape(input_shape, input_shape=input_shape))\n",
    "model.add(Conv2D(32, kernel_size=(3, 3), activation='relu'))\n",
    "model.add(Dropout(dropout))\n",
    "model.add(Conv2D(64, (3, 3), activation='relu'))\n",
    "model.add(Dropout(dropout))\n",
    "model.add(MaxPooling2D(pool_size=(2, 2)))\n",
    "model.add(Flatten())\n",
    "model.add(Dense(128, activation='relu'))\n",
    "model.add(Dropout(dropout))\n",
    "model.add(Dense(128, activation='relu'))\n",
    "model.add(Dropout(dropout))\n",
    "model.add(Dense(number_of_classes, activation='softmax'))\n",
    "\n",
    "\n",
    "model.compile(loss='categorical_crossentropy',\n",
    "              optimizer='adam',\n",
    "              metrics=['accuracy'])\n",
    "model.fit(train_images, train_labels,\n",
    "          batch_size=batch_size,\n",
    "          epochs=8,\n",
    "          validation_data=(test_images, test_labels))"
   ]
  },
  {
   "cell_type": "markdown",
   "metadata": {},
   "source": [
    "Now let's add in a bit of normalization for each batch."
   ]
  },
  {
   "cell_type": "code",
   "execution_count": 12,
   "metadata": {},
   "outputs": [
    {
     "name": "stdout",
     "output_type": "stream",
     "text": [
      "Train on 26640 samples, validate on 12569 samples\n",
      "Epoch 1/8\n",
      "26640/26640 [==============================] - 11s 415us/step - loss: 1.3140 - acc: 0.6208 - val_loss: 0.4030 - val_acc: 0.9054\n",
      "Epoch 2/8\n",
      "26640/26640 [==============================] - 10s 378us/step - loss: 0.3364 - acc: 0.8971 - val_loss: 0.2092 - val_acc: 0.9487\n",
      "Epoch 3/8\n",
      "26640/26640 [==============================] - 10s 382us/step - loss: 0.2044 - acc: 0.9382 - val_loss: 0.1748 - val_acc: 0.9527\n",
      "Epoch 4/8\n",
      "26640/26640 [==============================] - 10s 381us/step - loss: 0.1576 - acc: 0.9512 - val_loss: 0.1973 - val_acc: 0.9492\n",
      "Epoch 5/8\n",
      "26640/26640 [==============================] - 10s 383us/step - loss: 0.1296 - acc: 0.9609 - val_loss: 0.2198 - val_acc: 0.9485\n",
      "Epoch 6/8\n",
      "26640/26640 [==============================] - 10s 388us/step - loss: 0.1160 - acc: 0.9641 - val_loss: 0.1491 - val_acc: 0.9601\n",
      "Epoch 7/8\n",
      "26640/26640 [==============================] - 10s 377us/step - loss: 0.1059 - acc: 0.9673 - val_loss: 0.1250 - val_acc: 0.9640\n",
      "Epoch 8/8\n",
      "26640/26640 [==============================] - 10s 384us/step - loss: 0.0912 - acc: 0.9719 - val_loss: 0.1462 - val_acc: 0.9604\n"
     ]
    },
    {
     "data": {
      "text/plain": [
       "<keras.callbacks.History at 0x7f7e1002fac8>"
      ]
     },
     "execution_count": 12,
     "metadata": {},
     "output_type": "execute_result"
    }
   ],
   "source": [
    "dropout = 0.25\n",
    "\n",
    "model = Sequential()\n",
    "model.add(Reshape(input_shape, input_shape=input_shape))\n",
    "model.add(BatchNormalization())\n",
    "model.add(Conv2D(32, kernel_size=(3, 3), activation='relu'))\n",
    "model.add(Dropout(dropout))\n",
    "model.add(Conv2D(64, (3, 3), activation='relu'))\n",
    "model.add(Dropout(dropout))\n",
    "model.add(MaxPooling2D(pool_size=(2, 2)))\n",
    "model.add(Flatten())\n",
    "model.add(Dense(128, activation='relu'))\n",
    "model.add(Dropout(dropout))\n",
    "model.add(Dense(128, activation='relu'))\n",
    "model.add(Dropout(dropout))\n",
    "model.add(Dense(number_of_classes, activation='softmax'))\n",
    "\n",
    "\n",
    "model.compile(loss='categorical_crossentropy',\n",
    "              optimizer='adam',\n",
    "              metrics=['accuracy'])\n",
    "model.fit(train_images, train_labels,\n",
    "          batch_size=batch_size,\n",
    "          epochs=8,\n",
    "          validation_data=(test_images, test_labels))"
   ]
  },
  {
   "cell_type": "markdown",
   "metadata": {},
   "source": [
    "Aha -- now that moved the needle a bit, and it is clearly still learning as the loss keeps coming down. So, the next thing to do is -- train more!"
   ]
  },
  {
   "cell_type": "code",
   "execution_count": 13,
   "metadata": {},
   "outputs": [
    {
     "name": "stdout",
     "output_type": "stream",
     "text": [
      "Train on 26640 samples, validate on 12569 samples\n",
      "Epoch 1/32\n",
      "26640/26640 [==============================] - 11s 422us/step - loss: 0.0865 - acc: 0.9750 - val_loss: 0.1418 - val_acc: 0.9631\n",
      "Epoch 2/32\n",
      "26640/26640 [==============================] - 10s 381us/step - loss: 0.0760 - acc: 0.9767 - val_loss: 0.1830 - val_acc: 0.9593\n",
      "Epoch 3/32\n",
      "26640/26640 [==============================] - 10s 388us/step - loss: 0.0694 - acc: 0.9799 - val_loss: 0.1473 - val_acc: 0.9632\n",
      "Epoch 4/32\n",
      "26640/26640 [==============================] - 10s 388us/step - loss: 0.0715 - acc: 0.9796 - val_loss: 0.1474 - val_acc: 0.9602\n",
      "Epoch 5/32\n",
      "26640/26640 [==============================] - 10s 387us/step - loss: 0.0597 - acc: 0.9824 - val_loss: 0.1463 - val_acc: 0.9686\n",
      "Epoch 6/32\n",
      "26640/26640 [==============================] - 10s 394us/step - loss: 0.0609 - acc: 0.9821 - val_loss: 0.1387 - val_acc: 0.9665\n",
      "Epoch 7/32\n",
      "26640/26640 [==============================] - 10s 384us/step - loss: 0.0630 - acc: 0.9818 - val_loss: 0.1413 - val_acc: 0.9666\n",
      "Epoch 8/32\n",
      "26640/26640 [==============================] - 10s 389us/step - loss: 0.0502 - acc: 0.9859 - val_loss: 0.1620 - val_acc: 0.9640\n",
      "Epoch 9/32\n",
      "26640/26640 [==============================] - 10s 384us/step - loss: 0.0500 - acc: 0.9861 - val_loss: 0.1394 - val_acc: 0.9653\n",
      "Epoch 10/32\n",
      "26640/26640 [==============================] - 10s 387us/step - loss: 0.0417 - acc: 0.9883 - val_loss: 0.0960 - val_acc: 0.9745\n",
      "Epoch 11/32\n",
      "26640/26640 [==============================] - 10s 390us/step - loss: 0.0391 - acc: 0.9887 - val_loss: 0.1409 - val_acc: 0.9676\n",
      "Epoch 12/32\n",
      "26640/26640 [==============================] - 10s 383us/step - loss: 0.0494 - acc: 0.9868 - val_loss: 0.1309 - val_acc: 0.9680\n",
      "Epoch 13/32\n",
      "26640/26640 [==============================] - 10s 385us/step - loss: 0.0385 - acc: 0.9896 - val_loss: 0.1341 - val_acc: 0.9706\n",
      "Epoch 14/32\n",
      "26640/26640 [==============================] - 10s 388us/step - loss: 0.0455 - acc: 0.9879 - val_loss: 0.1742 - val_acc: 0.9625\n",
      "Epoch 15/32\n",
      "26640/26640 [==============================] - 10s 384us/step - loss: 0.0451 - acc: 0.9881 - val_loss: 0.1762 - val_acc: 0.9609\n",
      "Epoch 16/32\n",
      "26640/26640 [==============================] - 10s 389us/step - loss: 0.0371 - acc: 0.9902 - val_loss: 0.1220 - val_acc: 0.9702\n",
      "Epoch 17/32\n",
      "26640/26640 [==============================] - 10s 391us/step - loss: 0.0415 - acc: 0.9887 - val_loss: 0.1894 - val_acc: 0.9544\n",
      "Epoch 18/32\n",
      "26640/26640 [==============================] - 10s 382us/step - loss: 0.0416 - acc: 0.9896 - val_loss: 0.1167 - val_acc: 0.9750\n",
      "Epoch 19/32\n",
      "26640/26640 [==============================] - 10s 391us/step - loss: 0.0451 - acc: 0.9881 - val_loss: 0.2105 - val_acc: 0.9478\n",
      "Epoch 20/32\n",
      "26640/26640 [==============================] - 10s 386us/step - loss: 0.0322 - acc: 0.9908 - val_loss: 0.1891 - val_acc: 0.9615\n",
      "Epoch 21/32\n",
      "26640/26640 [==============================] - 10s 379us/step - loss: 0.0232 - acc: 0.9933 - val_loss: 0.1508 - val_acc: 0.9706\n",
      "Epoch 22/32\n",
      "26640/26640 [==============================] - 10s 387us/step - loss: 0.0395 - acc: 0.9899 - val_loss: 0.1812 - val_acc: 0.9667\n",
      "Epoch 23/32\n",
      "26640/26640 [==============================] - 10s 388us/step - loss: 0.0391 - acc: 0.9902 - val_loss: 0.1623 - val_acc: 0.9644\n",
      "Epoch 24/32\n",
      "26640/26640 [==============================] - 10s 386us/step - loss: 0.0319 - acc: 0.9927 - val_loss: 0.1961 - val_acc: 0.9604\n",
      "Epoch 25/32\n",
      "26640/26640 [==============================] - 10s 383us/step - loss: 0.0259 - acc: 0.9937 - val_loss: 0.1628 - val_acc: 0.9683\n",
      "Epoch 26/32\n",
      "26640/26640 [==============================] - 10s 387us/step - loss: 0.0315 - acc: 0.9920 - val_loss: 0.1443 - val_acc: 0.9692\n",
      "Epoch 27/32\n",
      "26640/26640 [==============================] - 10s 378us/step - loss: 0.0305 - acc: 0.9925 - val_loss: 0.1505 - val_acc: 0.9716\n",
      "Epoch 28/32\n",
      "26640/26640 [==============================] - 10s 385us/step - loss: 0.0312 - acc: 0.9923 - val_loss: 0.1443 - val_acc: 0.9712\n",
      "Epoch 29/32\n",
      "26640/26640 [==============================] - 10s 381us/step - loss: 0.0316 - acc: 0.9923 - val_loss: 0.1608 - val_acc: 0.9711\n",
      "Epoch 30/32\n",
      "26640/26640 [==============================] - 10s 383us/step - loss: 0.0406 - acc: 0.9911 - val_loss: 0.1745 - val_acc: 0.9687\n",
      "Epoch 31/32\n",
      "26640/26640 [==============================] - 10s 388us/step - loss: 0.0274 - acc: 0.9943 - val_loss: 0.1851 - val_acc: 0.9668\n",
      "Epoch 32/32\n",
      "26640/26640 [==============================] - 10s 385us/step - loss: 0.0267 - acc: 0.9931 - val_loss: 0.1454 - val_acc: 0.9698\n"
     ]
    },
    {
     "data": {
      "text/plain": [
       "<keras.callbacks.History at 0x7f7d887739b0>"
      ]
     },
     "execution_count": 13,
     "metadata": {},
     "output_type": "execute_result"
    }
   ],
   "source": [
    "model.compile(loss='categorical_crossentropy',\n",
    "              optimizer='adam',\n",
    "              metrics=['accuracy'])\n",
    "model.fit(train_images, train_labels,\n",
    "          batch_size=batch_size,\n",
    "          epochs=32,\n",
    "          validation_data=(test_images, test_labels))"
   ]
  },
  {
   "cell_type": "markdown",
   "metadata": {},
   "source": [
    "Aha -- we probably should have ended at the 27th epoch, but that can be accomodated by saving the model on each loop. But here we have a much narrower accuracy gap -- less overfitting!"
   ]
  },
  {
   "cell_type": "code",
   "execution_count": 14,
   "metadata": {},
   "outputs": [
    {
     "name": "stdout",
     "output_type": "stream",
     "text": [
      "             precision    recall  f1-score   support\n",
      "\n",
      "          0       0.98      0.88      0.93        60\n",
      "          1       0.97      0.97      0.97       720\n",
      "          2       0.93      0.99      0.96       750\n",
      "          3       0.97      1.00      0.98       450\n",
      "          4       1.00      0.93      0.96       660\n",
      "          5       0.96      0.96      0.96       600\n",
      "          6       1.00      0.99      1.00       120\n",
      "          7       0.95      0.99      0.97       480\n",
      "          8       0.97      0.99      0.98       450\n",
      "          9       0.96      0.99      0.97       480\n",
      "         10       1.00      1.00      1.00       660\n",
      "         11       0.97      0.97      0.97       420\n",
      "         12       1.00      0.99      0.99       690\n",
      "         13       0.99      1.00      1.00       720\n",
      "         14       1.00      0.97      0.99       240\n",
      "         15       0.97      0.94      0.95       210\n",
      "         16       0.99      1.00      1.00       120\n",
      "         17       0.99      1.00      0.99       360\n",
      "         18       0.96      0.98      0.97       390\n",
      "         19       0.85      1.00      0.92        60\n",
      "         20       0.78      0.99      0.88       120\n",
      "         21       0.97      0.74      0.84        90\n",
      "         22       0.97      1.00      0.98       120\n",
      "         23       0.94      0.85      0.90       150\n",
      "         24       0.99      0.91      0.95        90\n",
      "         25       0.96      0.99      0.98       480\n",
      "         26       0.97      0.93      0.95       180\n",
      "         27       0.89      0.97      0.93        60\n",
      "         28       0.99      0.94      0.97       180\n",
      "         29       0.94      0.69      0.79        90\n",
      "         30       0.98      0.90      0.94       150\n",
      "         31       0.92      0.99      0.95       240\n",
      "         32       0.95      1.00      0.98        60\n",
      "         33       0.98      0.99      0.98       209\n",
      "         34       0.97      1.00      0.98       120\n",
      "         35       0.99      0.98      0.99       390\n",
      "         36       0.99      1.00      1.00       120\n",
      "         37       0.81      1.00      0.90        60\n",
      "         38       1.00      0.98      0.99       690\n",
      "         39       0.98      0.92      0.95        90\n",
      "         40       0.99      0.62      0.76       120\n",
      "         41       0.98      0.95      0.97        60\n",
      "         42       0.97      0.98      0.98        60\n",
      "\n",
      "avg / total       0.97      0.97      0.97     12569\n",
      "\n"
     ]
    }
   ],
   "source": [
    "y_true, y_pred = np.argmax(test_labels, axis=1), np.argmax(model.predict(test_images), axis=1)\n",
    "print(classification_report(y_true, y_pred))"
   ]
  },
  {
   "cell_type": "code",
   "execution_count": null,
   "metadata": {},
   "outputs": [],
   "source": []
  }
 ],
 "metadata": {
  "kernelspec": {
   "display_name": "Python 3",
   "language": "python",
   "name": "python3"
  },
  "language_info": {
   "codemirror_mode": {
    "name": "ipython",
    "version": 3
   },
   "file_extension": ".py",
   "mimetype": "text/x-python",
   "name": "python",
   "nbconvert_exporter": "python",
   "pygments_lexer": "ipython3",
   "version": "3.6.5"
  }
 },
 "nbformat": 4,
 "nbformat_minor": 2
}
