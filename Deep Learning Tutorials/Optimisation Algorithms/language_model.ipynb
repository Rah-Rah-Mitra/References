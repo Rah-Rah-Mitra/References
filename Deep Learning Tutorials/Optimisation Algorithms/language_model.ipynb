{
 "cells": [
  {
   "cell_type": "markdown",
   "metadata": {},
   "source": [
    "Now as a project, we'll experiment with recurrent networks and learn a *language model*. A language model is simply a network that predicts the next word or character when trained on a set of data. \n",
    "\n",
    "We'll train James Joyce' *Ulysses*."
   ]
  },
  {
   "cell_type": "code",
   "execution_count": 2,
   "metadata": {},
   "outputs": [],
   "source": [
    "import numpy as np\n",
    "import keras\n",
    "from keras.layers import LSTM, BatchNormalization, CuDNNLSTM, Dense, Dropout, Embedding, Reshape\n",
    "from keras.models import Sequential, Model\n",
    "\n",
    "from keras.preprocessing.text import Tokenizer\n",
    "\n",
    "import matplotlib.pyplot as plt"
   ]
  },
  {
   "cell_type": "markdown",
   "metadata": {},
   "source": [
    "I've downloaded the text from Project Gutenberg, which is a great source of free texts of classic works."
   ]
  },
  {
   "cell_type": "code",
   "execution_count": 4,
   "metadata": {},
   "outputs": [],
   "source": [
    "with open(\"ulysses.txt\", 'r', encoding='utf8') as f:\n",
    "    text_content = f.read().lower()"
   ]
  },
  {
   "cell_type": "markdown",
   "metadata": {},
   "source": [
    "Now, we cannot exactly use text as is, we need to turn it into numbers. To do this, we'll use the `Tokenizer` to generate word to number mappings."
   ]
  },
  {
   "cell_type": "code",
   "execution_count": 3,
   "metadata": {},
   "outputs": [],
   "source": [
    "tokenizer = Tokenizer()\n",
    "tokenizer.fit_on_texts([text_content])"
   ]
  },
  {
   "cell_type": "markdown",
   "metadata": {},
   "source": [
    "Now we have a list of numbers rather than a string of characters."
   ]
  },
  {
   "cell_type": "code",
   "execution_count": 4,
   "metadata": {},
   "outputs": [
    {
     "data": {
      "text/plain": [
       "[13931, 1, 293, 292, 2236, 2, 2447, 22, 827, 5448]"
      ]
     },
     "execution_count": 4,
     "metadata": {},
     "output_type": "execute_result"
    }
   ],
   "source": [
    "ordinals = tokenizer.texts_to_sequences([text_content])[0]\n",
    "ordinals[0:10]"
   ]
  },
  {
   "cell_type": "markdown",
   "metadata": {},
   "source": [
    "Hmm -- how many unique words did we find?"
   ]
  },
  {
   "cell_type": "code",
   "execution_count": 5,
   "metadata": {},
   "outputs": [],
   "source": [
    "unique_tokens = len(tokenizer.word_index) + 1"
   ]
  },
  {
   "cell_type": "markdown",
   "metadata": {},
   "source": [
    "OK -- working with sequences, we need something to predict. That will be -- the next word. So, for any given sequence of a given length, the next word from the source text will be the output. This means we'll be taking out one hot array and chopping it into sequences for input, and single words as output.\n"
   ]
  },
  {
   "cell_type": "code",
   "execution_count": 6,
   "metadata": {},
   "outputs": [],
   "source": [
    "sequence_length = 32\n",
    "# make sure we don't go past the end of the sequence or ordinals\n",
    "chunks = len(ordinals) - sequence_length\n",
    "# sequence numbers for context words\n",
    "inputs = np.zeros((chunks, sequence_length), dtype=np.int32)\n",
    "# one hot encodings for target words\n",
    "outputs = np.zeros((chunks, unique_tokens), dtype=np.float)\n",
    "for i in range(0, chunks):\n",
    "    # copy in the ordinal word numbers for a sequence or words\n",
    "    context = np.array(ordinals[i:i+sequence_length], dtype=np.int32)\n",
    "    inputs[i] = context\n",
    "    #one hot flags the single word\n",
    "    target = ordinals[i+sequence_length]\n",
    "    outputs[i, target] = 1"
   ]
  },
  {
   "cell_type": "markdown",
   "metadata": {},
   "source": [
    "Each string will need to be in a matrix, and formulated as a 'batch'. We'll space pre-pad, and trim as needed to make sure we are the correct sequence length for our model.\n",
    "\n",
    "These encoding and decoding functions will turn our model into usable text."
   ]
  },
  {
   "cell_type": "code",
   "execution_count": 7,
   "metadata": {},
   "outputs": [],
   "source": [
    "def encode_string(s, max_len=sequence_length):\n",
    "    # only to max length\n",
    "    ret = np.zeros((max_len,), dtype=np.int32)\n",
    "    # actual encoding\n",
    "    ordinals = tokenizer.texts_to_sequences([s])[0][-max_len:]\n",
    "    encoded = np.array(ordinals, dtype=np.int32)\n",
    "    # take the 'tail' of the encoded and keep it\n",
    "    ret[-len(encoded):] = encoded\n",
    "    # formulate this into a very mini batch, only one batch entry\n",
    "    return np.expand_dims(ret, axis=0)"
   ]
  },
  {
   "cell_type": "code",
   "execution_count": 8,
   "metadata": {},
   "outputs": [
    {
     "data": {
      "text/plain": [
       "array([[  0,   0,   0,   0,   0,   0,   0,   0,   0,   0,   0,   0,   0,\n",
       "          0,   0,   0,   0,   0,   0,   0,   0,   0,   0,   0,   0,   0,\n",
       "          0,   0,   0, 128,  70,  42]], dtype=int32)"
      ]
     },
     "execution_count": 8,
     "metadata": {},
     "output_type": "execute_result"
    }
   ],
   "source": [
    "encode_string('Can we have')"
   ]
  },
  {
   "cell_type": "code",
   "execution_count": 9,
   "metadata": {},
   "outputs": [],
   "source": [
    "def decode_string(model_output):\n",
    "    return tokenizer.sequences_to_texts([[model_output.argmax().astype(np.int32)]])"
   ]
  },
  {
   "cell_type": "code",
   "execution_count": 10,
   "metadata": {},
   "outputs": [
    {
     "data": {
      "text/plain": [
       "['give']"
      ]
     },
     "execution_count": 10,
     "metadata": {},
     "output_type": "execute_result"
    }
   ],
   "source": [
    "decode_string(outputs[0])"
   ]
  },
  {
   "cell_type": "markdown",
   "metadata": {},
   "source": [
    "Now we'll make a keras callback, so we can watch text generation at each epoch as the model learns. Callbacks are a nice way to 'see inside' keras while it is running."
   ]
  },
  {
   "cell_type": "code",
   "execution_count": 11,
   "metadata": {},
   "outputs": [],
   "source": [
    "class Generate(keras.callbacks.Callback):\n",
    "    def on_epoch_end(self, epoch, logs):\n",
    "        text = 'Can we have'\n",
    "        for i in range(32):\n",
    "            output = self.model.predict(encode_string(text))\n",
    "            next_word = decode_string(output)[0]\n",
    "            text += ' {0}'.format(next_word)\n",
    "        print(text)"
   ]
  },
  {
   "cell_type": "markdown",
   "metadata": {},
   "source": [
    "Now we'll do a bit more advanced learning -- and make a network that can encode and decode a recurrent string network.\n",
    "\n",
    "This starts with embedding the integer representing each word -- this turns an index of a single word into a floating point array better suited for machine learning. Then we run a recurrent network -- it loops over each word position, feeding the network into itself on each step. \n",
    "\n",
    "The next part of the stack is a standard multilayer perceptron. Here we're using the `elu` activation. This differs from a `relu` in that is will allow some negative values, where a `relu` is always zero for negative inputs.\n",
    "\n",
    "Finally, we do a dense output to generate one hot encodings for outputs via `softmax`.\n",
    "\n",
    "We're going to use Adam, since we had great learning results with it earlier -- it's a pretty good default. "
   ]
  },
  {
   "cell_type": "code",
   "execution_count": 12,
   "metadata": {},
   "outputs": [
    {
     "name": "stdout",
     "output_type": "stream",
     "text": [
      "Epoch 1/32\n",
      "268414/268414 [==============================] - 536s 2ms/step - loss: 7.3406\n",
      "Can we have been been in the world of the world of the world of the world of the world of the world of the world of the world of the world of the world\n",
      "Epoch 2/32\n",
      "268414/268414 [==============================] - 481s 2ms/step - loss: 6.6730\n",
      "Can we have a good man of the world the other time of the world and the other time the other time i was a good man and the other time i was a good\n",
      "Epoch 3/32\n",
      "268414/268414 [==============================] - 480s 2ms/step - loss: 6.3067\n",
      "Can we have forgotten to see the same for the same for the same for the same for the same place for the same place and the same time and the same time and the\n",
      "Epoch 4/32\n",
      "268414/268414 [==============================] - 480s 2ms/step - loss: 5.8960\n",
      "Can we have a good man of course he is in the dark and the last time they are all the same time they say he was in the same time he had the last\n",
      "Epoch 5/32\n",
      "268414/268414 [==============================] - 483s 2ms/step - loss: 5.3733\n",
      "Can we have you see the night of the night i am here for the gold cup of the duck private compton and the voice of the night and the voice of the church of\n",
      "Epoch 6/32\n",
      "268414/268414 [==============================] - 476s 2ms/step - loss: 4.7373\n",
      "Can we have you just go pat waiter waited for me to go to be seen on the light of the bar the sun i am the last time i was in the city arms\n",
      "Epoch 7/32\n",
      "268414/268414 [==============================] - 481s 2ms/step - loss: 4.0642\n",
      "Can we have no music have ears what you have no money to see the eat of your wash and shoulder melancholy god soft night i hate people no hate people like that damn it\n",
      "Epoch 8/32\n",
      "268414/268414 [==============================] - 478s 2ms/step - loss: 3.4666\n",
      "Can we have their bad feed like a corpse why golden else are you too bad for you feel that way feel a flower of god i hate the mention of the lamb bawling on\n",
      "Epoch 9/32\n",
      "268414/268414 [==============================] - 479s 2ms/step - loss: 2.9652\n",
      "Can we have their own touch me run over me tide at them outside the obituary notices they stuck the flies buzzed his downcast rising weighing the will probably about a word of beauty he\n",
      "Epoch 10/32\n",
      "268414/268414 [==============================] - 479s 2ms/step - loss: 2.5642\n",
      "Can we have you too much noise too wait wait till i wait awhile under all the dark wall come under love shall ere long enter into most mild light wait gentle summer fields —do\n",
      "Epoch 11/32\n",
      "268414/268414 [==============================] - 479s 2ms/step - loss: 2.2450\n",
      "Can we have dear gerald dear o dear o dear o dear o no dear for hamlet for me i am very well i have forgotten my eye retaining the perpendicular he staggers a pace\n",
      "Epoch 12/32\n",
      "268414/268414 [==============================] - 483s 2ms/step - loss: 1.9980\n",
      "Can we have their swimming eyes bloom elbowing through the crowd plucks stephen’s arm fizz and wine buck mulligan laid his cigarette from the presstable ben dollard lydia douce goulding collis ward ate steak and\n",
      "Epoch 13/32\n",
      "268414/268414 [==============================] - 477s 2ms/step - loss: 1.7952\n",
      "Can we have forgotten i bet on the feel of the heart of the girls i think i saw from the sea yet they come back through makes me feel all a year we have\n",
      "Epoch 14/32\n",
      "268414/268414 [==============================] - 482s 2ms/step - loss: 1.6402\n",
      "Can we have their drawbacks that bee or bluebottle too other day last do it’s not moving you see perhaps not now do you know how are you do you know how are things —hello\n",
      "Epoch 15/32\n",
      "268414/268414 [==============================] - 480s 2ms/step - loss: 1.5130\n",
      "Can we have forgotten perhaps feel the night felt they wound their ground in the doorway there is have no —no thats the bath now coming into the room with a married man in a\n",
      "Epoch 16/32\n",
      "268414/268414 [==============================] - 482s 2ms/step - loss: 1.4087\n",
      "Can we have light my lips feel me feel no more south now pity they can’t move before dressing kill it keep my kissed at first legs off colour after her cold water and jacket\n",
      "Epoch 17/32\n",
      "268414/268414 [==============================] - 479s 2ms/step - loss: 1.3244\n",
      "Can we have forgotten you feel i won’t eat you feel so hard with sweet soft muscles bloom uncloaks welt against her waist preposterous an old athos people boylan back loudly company ate shake and\n",
      "Epoch 18/32\n",
      "268414/268414 [==============================] - 480s 2ms/step - loss: 1.2572\n",
      "Can we have forgotten you feel so tide all day warm day saw their balance anywhere do it standing somewhere must be home forward i’ll knock you down there rush now fork and stop him\n",
      "Epoch 19/32\n",
      "268414/268414 [==============================] - 482s 2ms/step - loss: 1.1987\n",
      "Can we have forgotten it light the pianola i flew will hearing not hungry man zoe florry lynch the blond man watched the polished of the immaculate reciting the litany of our lady of loreto\n",
      "Epoch 20/32\n",
      "268414/268414 [==============================] - 477s 2ms/step - loss: 1.1523\n",
      "Can we have forgotten you rose and potato purse where one of them sees wind alone swift woman remember she lapped dear willun when she went with a crust in his hand a little trouble\n",
      "Epoch 21/32\n",
      "268414/268414 [==============================] - 482s 2ms/step - loss: 1.1142\n",
      "Can we have forgotten you feel the feel themselves i feel so young dream of songs on this mrs breen don’t she cried mind she sits twilight she thinks on her finger and molten drink\n",
      "Epoch 22/32\n",
      "268414/268414 [==============================] - 480s 2ms/step - loss: 1.0832\n",
      "Can we have forgotten singing she takes up bronze bishop juice positive isn’t a particular ring with opportunity all the dark the coffin was over stephen’s ear to be an irishman as it was altogether\n",
      "Epoch 23/32\n",
      "268414/268414 [==============================] - 481s 2ms/step - loss: 1.0525\n",
      "Can we have forgotten kevin egan not he them in denzille street full bottle of allsop slide five em meeting he pressed his right hand on the axle sadly over the shore at the open\n",
      "Epoch 24/32\n",
      "268414/268414 [==============================] - 474s 2ms/step - loss: 1.0282\n",
      "Can we have thou no one what’s going to catch out her shell row over it she gives her the coward’s blow they hurried forward behind with m’coy the other one pipe goes with the\n",
      "Epoch 25/32\n",
      "268414/268414 [==============================] - 478s 2ms/step - loss: 1.0117\n",
      "Can we have martha seven six i am —good john henry menton said i am quite right sir ugly no love we are one morning sir knows theres georges church bells and the lowest of\n",
      "Epoch 26/32\n",
      "268414/268414 [==============================] - 482s 2ms/step - loss: 0.9921\n",
      "Can we have tap tap tap tap tap tap tap tap virag her hand and shows coyly her boa exhausted her sort all now dear richie raised his hand aside way father conmee supposed a\n",
      "Epoch 27/32\n",
      "268414/268414 [==============================] - 483s 2ms/step - loss: 0.9795\n",
      "Can we have light fresh words evoke tomorrow will be a week no letter for me he knows him a little thing in his face quite safe but two days every man he felt me\n",
      "Epoch 28/32\n",
      "268414/268414 [==============================] - 482s 2ms/step - loss: 0.9593\n",
      "Can we have front me alone a couch by tram here he laughs her soft obligation is now a loud hot male big black panther the secret about the day o he laid down the\n",
      "Epoch 29/32\n",
      "268414/268414 [==============================] - 480s 2ms/step - loss: 0.9433\n",
      "Can we have light a girl bello lost my blood you have my blood you are too we feel must return through a breast at all i mean the united empire of a guilty substance\n",
      "Epoch 30/32\n",
      "268414/268414 [==============================] - 476s 2ms/step - loss: 0.9442\n",
      "Can we have light my wind i feel so feel pity named my enemy i just simply going of dark edward an arch pulled in his body don’t match by man for instance they get\n",
      "Epoch 31/32\n",
      "268414/268414 [==============================] - 482s 2ms/step - loss: 0.9263\n",
      "Can we have light a flower mrs bella cohen she gently met la la la la la la bella canebrake all slipperslappers with his ten fingers cropped up ben dollard lydia douce george lidwell pat\n",
      "Epoch 32/32\n",
      "268414/268414 [==============================] - 481s 2ms/step - loss: 0.9216\n",
      "Can we have end you’ll come to the right what’s left bloom they change the bat flew forth from the ivied belfry through the dusk hither thither with a lost property of dull times at\n"
     ]
    }
   ],
   "source": [
    "number_embedding_layers = 256\n",
    "number_hidden_layers = 256\n",
    "number_layers = 2\n",
    "epochs = 32\n",
    "batch_size = 32\n",
    "\n",
    "model = Sequential()\n",
    "# begin by embedding character positions\n",
    "model.add(Embedding(unique_tokens,\n",
    "                    number_embedding_layers, \n",
    "                    input_shape=(inputs.shape[1],)))\n",
    "# and then work on the embeddings recurrently\n",
    "model.add(LSTM(number_hidden_layers, unroll=True))\n",
    "model.add(Dense(number_hidden_layers, activation='elu'))\n",
    "model.add(Dense(number_hidden_layers, activation='elu'))\n",
    "model.add(Dense(outputs.shape[1], activation='softmax'))\n",
    "model.compile(loss='categorical_crossentropy', optimizer='adam')\n",
    "results = model.fit(inputs, outputs, epochs=epochs, batch_size=batch_size, callbacks=[Generate()])"
   ]
  },
  {
   "cell_type": "code",
   "execution_count": 13,
   "metadata": {},
   "outputs": [],
   "source": [
    "def plot_loss(total_loss):\n",
    "    x_axis = np.linspace(0, len(total_loss), len(total_loss), endpoint=True)\n",
    "    plt.semilogy(x_axis, total_loss)\n",
    "    plt.xlabel('epoch')\n",
    "    plt.ylabel('loss')\n",
    "    plt.show()"
   ]
  },
  {
   "cell_type": "code",
   "execution_count": 16,
   "metadata": {},
   "outputs": [
    {
     "data": {
      "image/png": "[encoded data removed]",
      "text/plain": [
       "<Figure size 432x288 with 1 Axes>"
      ]
     },
     "metadata": {},
     "output_type": "display_data"
    }
   ],
   "source": [
    "plot_loss(results.history['loss'])"
   ]
  },
  {
   "cell_type": "markdown",
   "metadata": {},
   "source": [
    "We can see the loss keeps declining -- training for more epochs can certainly generate more learning."
   ]
  },
  {
   "cell_type": "code",
   "execution_count": null,
   "metadata": {},
   "outputs": [],
   "source": []
  }
 ],
 "metadata": {
  "kernelspec": {
   "display_name": "Python 3",
   "language": "python",
   "name": "python3"
  },
  "language_info": {
   "codemirror_mode": {
    "name": "ipython",
    "version": 3
   },
   "file_extension": ".py",
   "mimetype": "text/x-python",
   "name": "python",
   "nbconvert_exporter": "python",
   "pygments_lexer": "ipython3",
   "version": "3.11.2"
  }
 },
 "nbformat": 4,
 "nbformat_minor": 2
}
