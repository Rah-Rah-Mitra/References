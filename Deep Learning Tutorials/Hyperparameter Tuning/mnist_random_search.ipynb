{
 "cells": [
  {
   "cell_type": "markdown",
   "metadata": {},
   "source": [
    "Using the good old MNIST digits, we'll explore hyper parameters. First up -- let's load and normalize the digits."
   ]
  },
  {
   "cell_type": "code",
   "execution_count": 1,
   "metadata": {},
   "outputs": [
    {
     "name": "stderr",
     "output_type": "stream",
     "text": [
      "/opt/conda/lib/python3.6/site-packages/h5py/__init__.py:36: FutureWarning: Conversion of the second argument of issubdtype from `float` to `np.floating` is deprecated. In future, it will be treated as `np.float64 == np.dtype(float).type`.\n",
      "  from ._conv import register_converters as _register_converters\n",
      "Using TensorFlow backend.\n"
     ]
    }
   ],
   "source": [
    "import numpy as np\n",
    "import seaborn as sns\n",
    "import math\n",
    "\n",
    "import keras\n",
    "from keras.datasets import mnist\n",
    "from keras.layers import Input, Dense, Dropout, Flatten, MaxPooling2D, Conv2D, BatchNormalization, ZeroPadding2D, Reshape\n",
    "from keras.models import Model, Sequential\n",
    "import numpy as np\n",
    "from sklearn.model_selection import RandomizedSearchCV, PredefinedSplit\n",
    "import keras.wrappers.scikit_learn\n",
    "import scipy.stats\n",
    "\n",
    "sns.set()"
   ]
  },
  {
   "cell_type": "code",
   "execution_count": 2,
   "metadata": {},
   "outputs": [],
   "source": [
    "(x_train, y_train), (x_test, y_test) = mnist.load_data()"
   ]
  },
  {
   "cell_type": "code",
   "execution_count": 3,
   "metadata": {},
   "outputs": [
    {
     "data": {
      "text/plain": [
       "((60000, 28, 28, 1), (60000, 10))"
      ]
     },
     "execution_count": 3,
     "metadata": {},
     "output_type": "execute_result"
    }
   ],
   "source": [
    "train_images = np.expand_dims(x_train / np.max(x_train), -1)\n",
    "test_images = np.expand_dims(x_test / np.max(x_test), -1)\n",
    "train_labels = keras.utils.to_categorical(y_train, 10)\n",
    "test_labels = keras.utils.to_categorical(y_test, 10)\n",
    "train_images.shape, train_labels.shape"
   ]
  },
  {
   "cell_type": "markdown",
   "metadata": {},
   "source": [
    "This is the same build function we used with Grid Search, but just as a reminder -- the idea is to adapt Keras interface to Scikit learn interface.\n",
    "\n",
    "Scikit learn has a great 'standardized' interface that we can use with keras. This requires a 'build function' -- which creates a model.\n",
    "\n",
    "This build function has a set of parameters -- hyperparameters -- that we will vary in order to find a 'best' model.\n"
   ]
  },
  {
   "cell_type": "code",
   "execution_count": 4,
   "metadata": {},
   "outputs": [],
   "source": [
    "input_shape = train_images[0].shape\n",
    "num_classes = 10\n",
    "\n",
    "def builder(activation='relu', depth=1, pool=3, \n",
    "            strides=2, filters=32, hidden=64, dropout=0.0,\n",
    "            loss='categorical_crossentropy', optimzer='adam'):\n",
    "    model = Sequential()\n",
    "    # initial reshape to have consistent layering\n",
    "    model.add(Reshape(input_shape, input_shape=input_shape))\n",
    "    \n",
    "    # convolutional stack\n",
    "    for i in range(depth):\n",
    "        model.add(Conv2D(filters, pool, activation=activation))\n",
    "        model.add(ZeroPadding2D(pool//2))\n",
    "        model.add(MaxPooling2D(pool, strides=strides))\n",
    "        if dropout > 0:\n",
    "            model.add(Dropout(dropout))\n",
    "    \n",
    "    # multilayer perceptron\n",
    "    model.add(Flatten())\n",
    "    for i in range(depth):\n",
    "        model.add(Dense(hidden, activation=activation))\n",
    "        if dropout > 0:\n",
    "            model.add(Dropout(dropout))\n",
    "    # final class activation\n",
    "    model.add(Dense(num_classes, activation='softmax'))\n",
    "    \n",
    "    model.compile(loss=loss, optimizer=optimzer, metrics=['accuracy'])\n",
    "    return model\n",
    "\n",
    "classifier = keras.wrappers.scikit_learn.KerasClassifier(builder)"
   ]
  },
  {
   "cell_type": "code",
   "execution_count": 5,
   "metadata": {},
   "outputs": [
    {
     "name": "stdout",
     "output_type": "stream",
     "text": [
      "Epoch 1/1\n",
      "60000/60000 [==============================] - 33s 548us/step - loss: 0.1508 - acc: 0.9540\n"
     ]
    },
    {
     "data": {
      "text/plain": [
       "<keras.callbacks.History at 0x7f3df804af28>"
      ]
     },
     "execution_count": 5,
     "metadata": {},
     "output_type": "execute_result"
    }
   ],
   "source": [
    "classifier.fit(train_images, train_labels)"
   ]
  },
  {
   "cell_type": "markdown",
   "metadata": {},
   "source": [
    "Since we already have separated testing data, we'll use a custom cross validator to split at the index point where the training images end, and then just concatenate the training and testing data end to end. \n",
    "\n",
    "The `PredefinedSplit` let's us declare which samples are training `-1` and testing folds. We'll use only one testing fold, with a value of `0`, which is the 0 index."
   ]
  },
  {
   "cell_type": "code",
   "execution_count": 6,
   "metadata": {},
   "outputs": [],
   "source": [
    "all_images = np.concatenate((train_images, test_images), axis=0)\n",
    "all_labels = np.concatenate((train_labels, test_labels), axis=0)\n",
    "train_test_bitmap = np.concatenate(\n",
    "    (np.full(len(train_images), -1), np.zeros(len(test_images))),\n",
    "    axis=0)\n",
    "\n",
    "train_test_data = PredefinedSplit(train_test_bitmap)\n"
   ]
  },
  {
   "cell_type": "markdown",
   "metadata": {},
   "source": [
    "Now the actual randomized search. This is different than grid search in that each iteration, which is a kind of meta-epoch, takes a random sample for each parameter. This sampling is done on a probability distribution, so you need to think about what kind of numbers you need `int` or `float`, as well as the range of values that you think are valid.\n",
    "\n",
    "And -- you need to pick a probability distribution, whether something flat, a uniform distribution like how dice or a quarter work, or something more sophisticated like a gaussian or an exponential that samples values with different probabilities.\n",
    "\n",
    "There are no hard and fast rules to the best distribution to use, they are arrived at by experiment."
   ]
  },
  {
   "cell_type": "markdown",
   "metadata": {},
   "source": [
    "## Exponential\n",
    "Here is a look at what the values are like in an exponential, first with the default scale of 1, and then with a scale of 0.1.\n",
    "\n",
    "Scikit learn is taking a large number of random samples, so we'll simulate that by making a list of sampled values.\n",
    "\n",
    "You can see that it is mostly 0-0.1 -- that's the effect of scale, but in practice higher values can occur."
   ]
  },
  {
   "cell_type": "code",
   "execution_count": 7,
   "metadata": {},
   "outputs": [
    {
     "data": {
      "text/plain": [
       "<matplotlib.axes._subplots.AxesSubplot at 0x7f3dd00bd5f8>"
      ]
     },
     "execution_count": 7,
     "metadata": {},
     "output_type": "execute_result"
    },
    {
     "data": {
      "image/png": "[encoded data removed]",
      "text/plain": [
       "<Figure size 432x288 with 1 Axes>"
      ]
     },
     "metadata": {},
     "output_type": "display_data"
    }
   ],
   "source": [
    "sample_indexes = [i for i in range(0, 100)]\n",
    "exponential = scipy.stats.expon(scale=0.1)\n",
    "samples = [exponential.rvs() for x in sample_indexes]\n",
    "sns.scatterplot(sample_indexes, samples)"
   ]
  },
  {
   "cell_type": "markdown",
   "metadata": {},
   "source": [
    "## Uniform\n",
    "This is really two options -- uniform float and uniform integers, let's take a look at both. You'll see the numbers are evenly spread across the range."
   ]
  },
  {
   "cell_type": "code",
   "execution_count": 8,
   "metadata": {},
   "outputs": [
    {
     "data": {
      "text/plain": [
       "<matplotlib.axes._subplots.AxesSubplot at 0x7f3dd00659e8>"
      ]
     },
     "execution_count": 8,
     "metadata": {},
     "output_type": "execute_result"
    },
    {
     "data": {
      "image/png": "[encoded data removed]",
      "text/plain": [
       "<Figure size 432x288 with 1 Axes>"
      ]
     },
     "metadata": {},
     "output_type": "display_data"
    }
   ],
   "source": [
    "uniform = scipy.stats.uniform(1, 10)\n",
    "samples = [uniform.rvs() for x in sample_indexes]\n",
    "sns.scatterplot(sample_indexes, samples)"
   ]
  },
  {
   "cell_type": "code",
   "execution_count": 9,
   "metadata": {},
   "outputs": [
    {
     "data": {
      "text/plain": [
       "<matplotlib.axes._subplots.AxesSubplot at 0x7f3dc0783160>"
      ]
     },
     "execution_count": 9,
     "metadata": {},
     "output_type": "execute_result"
    },
    {
     "data": {
      "image/png": "[encoded data removed]",
      "text/plain": [
       "<Figure size 432x288 with 1 Axes>"
      ]
     },
     "metadata": {},
     "output_type": "display_data"
    }
   ],
   "source": [
    "integers = scipy.stats.randint(32, 64)\n",
    "samples = [integers.rvs() for x in sample_indexes]\n",
    "sns.scatterplot(sample_indexes, samples)"
   ]
  },
  {
   "cell_type": "markdown",
   "metadata": {},
   "source": [
    "## Normal\n",
    "Use this when you want numbers to hover around a midpoint, by default around zero. Now notice in this graph that this probably doesn't look like the bell curve you would expect -- that's because we have the sample index as the X axis. What you can see is the density is around `0.5` -- that's the peak of the bell."
   ]
  },
  {
   "cell_type": "code",
   "execution_count": 10,
   "metadata": {},
   "outputs": [
    {
     "data": {
      "text/plain": [
       "<matplotlib.axes._subplots.AxesSubplot at 0x7f3dc0789a20>"
      ]
     },
     "execution_count": 10,
     "metadata": {},
     "output_type": "execute_result"
    },
    {
     "data": {
      "image/png": "[encoded data removed]",
      "text/plain": [
       "<Figure size 432x288 with 1 Axes>"
      ]
     },
     "metadata": {},
     "output_type": "display_data"
    }
   ],
   "source": [
    "normal = scipy.stats.norm(loc=0.5, scale=0.1)\n",
    "samples = [normal.rvs() for x in sample_indexes]\n",
    "sns.scatterplot(sample_indexes, samples)"
   ]
  },
  {
   "cell_type": "markdown",
   "metadata": {},
   "source": [
    "Randomized search doesn't cover every possible permutation of parameters, it runs for `n_iter` iterations. Just a warning, this is going to take a **long while to run**. However, you can control the number of iterations to suit your time, patience, or compute budget.\n",
    "\n",
    "The second thing to note is you can mix lists of parameters with distributions. The lists get a random pick from the options. The distributions get a random value generated. This is pretty cool, you can mix nominal parameters like activations with numerical parameters easily.\n"
   ]
  },
  {
   "cell_type": "code",
   "execution_count": 12,
   "metadata": {},
   "outputs": [
    {
     "name": "stdout",
     "output_type": "stream",
     "text": [
      "Fitting 1 folds for each of 16 candidates, totalling 16 fits\n",
      "Epoch 1/9\n",
      "60000/60000 [==============================] - 43s 717us/step - loss: 0.1959 - acc: 0.9401\n",
      "Epoch 2/9\n",
      "60000/60000 [==============================] - 42s 708us/step - loss: 0.1107 - acc: 0.9656\n",
      "Epoch 3/9\n",
      "60000/60000 [==============================] - 42s 708us/step - loss: 0.0969 - acc: 0.9695\n",
      "Epoch 4/9\n",
      "60000/60000 [==============================] - 42s 707us/step - loss: 0.0840 - acc: 0.9740\n",
      "Epoch 5/9\n",
      "60000/60000 [==============================] - 42s 706us/step - loss: 0.0778 - acc: 0.9761\n",
      "Epoch 6/9\n",
      "60000/60000 [==============================] - 42s 705us/step - loss: 0.0712 - acc: 0.9781\n",
      "Epoch 7/9\n",
      "60000/60000 [==============================] - 42s 707us/step - loss: 0.0626 - acc: 0.9803\n",
      "Epoch 8/9\n",
      "60000/60000 [==============================] - 42s 704us/step - loss: 0.0614 - acc: 0.9811\n",
      "Epoch 9/9\n",
      "60000/60000 [==============================] - 42s 703us/step - loss: 0.0614 - acc: 0.9810\n",
      "10000/10000 [==============================] - 2s 232us/step\n",
      "60000/60000 [==============================] - 13s 222us/step\n",
      "Epoch 1/13\n",
      "60000/60000 [==============================] - 74s 1ms/step - loss: 0.1832 - acc: 0.9450\n",
      "Epoch 2/13\n",
      "60000/60000 [==============================] - 74s 1ms/step - loss: 0.1055 - acc: 0.9678\n",
      "Epoch 3/13\n",
      "60000/60000 [==============================] - 74s 1ms/step - loss: 0.0864 - acc: 0.9734\n",
      "Epoch 4/13\n",
      "60000/60000 [==============================] - 73s 1ms/step - loss: 0.0816 - acc: 0.9749\n",
      "Epoch 5/13\n",
      "60000/60000 [==============================] - 73s 1ms/step - loss: 0.0737 - acc: 0.9768\n",
      "Epoch 6/13\n",
      "60000/60000 [==============================] - 73s 1ms/step - loss: 0.0653 - acc: 0.9793\n",
      "Epoch 7/13\n",
      "60000/60000 [==============================] - 73s 1ms/step - loss: 0.0627 - acc: 0.9809\n",
      "Epoch 8/13\n",
      "60000/60000 [==============================] - 73s 1ms/step - loss: 0.0612 - acc: 0.9814\n",
      "Epoch 9/13\n",
      "60000/60000 [==============================] - 73s 1ms/step - loss: 0.0544 - acc: 0.9828\n",
      "Epoch 10/13\n",
      "60000/60000 [==============================] - 73s 1ms/step - loss: 0.0549 - acc: 0.9833\n",
      "Epoch 11/13\n",
      "60000/60000 [==============================] - 73s 1ms/step - loss: 0.0538 - acc: 0.9836\n",
      "Epoch 12/13\n",
      "60000/60000 [==============================] - 73s 1ms/step - loss: 0.0509 - acc: 0.9841\n",
      "Epoch 13/13\n",
      "60000/60000 [==============================] - 73s 1ms/step - loss: 0.0505 - acc: 0.9837\n",
      "10000/10000 [==============================] - 5s 497us/step\n",
      "60000/60000 [==============================] - 30s 492us/step\n",
      "Epoch 1/1\n",
      "60000/60000 [==============================] - 82s 1ms/step - loss: 0.1821 - acc: 0.9449\n",
      "10000/10000 [==============================] - 5s 467us/step\n",
      "60000/60000 [==============================] - 27s 452us/step\n",
      "Epoch 1/13\n",
      "60000/60000 [==============================] - 88s 1ms/step - loss: 0.1613 - acc: 0.9505\n",
      "Epoch 2/13\n",
      "60000/60000 [==============================] - 88s 1ms/step - loss: 0.0862 - acc: 0.9734\n",
      "Epoch 3/13\n",
      "60000/60000 [==============================] - 88s 1ms/step - loss: 0.0712 - acc: 0.9778\n",
      "Epoch 4/13\n",
      "60000/60000 [==============================] - 88s 1ms/step - loss: 0.0614 - acc: 0.9808\n",
      "Epoch 5/13\n",
      "60000/60000 [==============================] - 88s 1ms/step - loss: 0.0549 - acc: 0.9831\n",
      "Epoch 6/13\n",
      "60000/60000 [==============================] - 88s 1ms/step - loss: 0.0502 - acc: 0.9845\n",
      "Epoch 7/13\n",
      "60000/60000 [==============================] - 89s 1ms/step - loss: 0.0412 - acc: 0.9866\n",
      "Epoch 8/13\n",
      "60000/60000 [==============================] - 88s 1ms/step - loss: 0.0449 - acc: 0.9866\n",
      "Epoch 9/13\n",
      "60000/60000 [==============================] - 88s 1ms/step - loss: 0.0407 - acc: 0.9877\n",
      "Epoch 10/13\n",
      "60000/60000 [==============================] - 88s 1ms/step - loss: 0.0368 - acc: 0.9888\n",
      "Epoch 11/13\n",
      "60000/60000 [==============================] - 88s 1ms/step - loss: 0.0420 - acc: 0.9879\n",
      "Epoch 12/13\n",
      "60000/60000 [==============================] - 88s 1ms/step - loss: 0.0370 - acc: 0.9890\n",
      "Epoch 13/13\n",
      "60000/60000 [==============================] - 88s 1ms/step - loss: 0.0367 - acc: 0.9893\n",
      "10000/10000 [==============================] - 7s 664us/step\n",
      "60000/60000 [==============================] - 39s 657us/step\n",
      "Epoch 1/11\n",
      "60000/60000 [==============================] - 86s 1ms/step - loss: 0.1649 - acc: 0.9493\n",
      "Epoch 2/11\n",
      "60000/60000 [==============================] - 85s 1ms/step - loss: 0.0719 - acc: 0.9778\n",
      "Epoch 3/11\n",
      "60000/60000 [==============================] - 85s 1ms/step - loss: 0.0536 - acc: 0.9834\n",
      "Epoch 4/11\n",
      "60000/60000 [==============================] - 85s 1ms/step - loss: 0.0444 - acc: 0.9859\n",
      "Epoch 5/11\n",
      "60000/60000 [==============================] - 85s 1ms/step - loss: 0.0385 - acc: 0.9872\n",
      "Epoch 6/11\n",
      "60000/60000 [==============================] - 85s 1ms/step - loss: 0.0326 - acc: 0.9896\n",
      "Epoch 7/11\n",
      "60000/60000 [==============================] - 85s 1ms/step - loss: 0.0293 - acc: 0.9905\n",
      "Epoch 8/11\n",
      "60000/60000 [==============================] - 85s 1ms/step - loss: 0.0242 - acc: 0.9922\n",
      "Epoch 9/11\n",
      "60000/60000 [==============================] - 85s 1ms/step - loss: 0.0241 - acc: 0.9920\n",
      "Epoch 10/11\n",
      "60000/60000 [==============================] - 85s 1ms/step - loss: 0.0215 - acc: 0.9929\n",
      "Epoch 11/11\n",
      "60000/60000 [==============================] - 85s 1ms/step - loss: 0.0203 - acc: 0.9935\n",
      "10000/10000 [==============================] - 5s 473us/step\n",
      "60000/60000 [==============================] - 28s 461us/step\n",
      "Epoch 1/6\n",
      "60000/60000 [==============================] - 35s 586us/step - loss: 0.1566 - acc: 0.9528\n",
      "Epoch 2/6\n",
      "60000/60000 [==============================] - 35s 583us/step - loss: 0.0756 - acc: 0.9763\n",
      "Epoch 3/6\n",
      "60000/60000 [==============================] - 35s 578us/step - loss: 0.0582 - acc: 0.9815\n",
      "Epoch 4/6\n",
      "60000/60000 [==============================] - 35s 582us/step - loss: 0.0472 - acc: 0.9849\n",
      "Epoch 5/6\n",
      "60000/60000 [==============================] - 35s 580us/step - loss: 0.0433 - acc: 0.9859\n",
      "Epoch 6/6\n",
      "60000/60000 [==============================] - 35s 580us/step - loss: 0.0361 - acc: 0.9885\n",
      "10000/10000 [==============================] - 2s 214us/step\n",
      "60000/60000 [==============================] - 12s 196us/step\n",
      "Epoch 1/8\n",
      "60000/60000 [==============================] - 50s 840us/step - loss: 0.6062 - acc: 0.8035\n",
      "Epoch 2/8\n",
      "60000/60000 [==============================] - 50s 827us/step - loss: 0.2845 - acc: 0.9145\n",
      "Epoch 3/8\n",
      "60000/60000 [==============================] - 50s 828us/step - loss: 0.2470 - acc: 0.9267\n",
      "Epoch 4/8\n",
      "60000/60000 [==============================] - 50s 828us/step - loss: 0.2242 - acc: 0.9338\n",
      "Epoch 5/8\n",
      "60000/60000 [==============================] - 50s 829us/step - loss: 0.2162 - acc: 0.9358\n",
      "Epoch 6/8\n",
      "60000/60000 [==============================] - 50s 830us/step - loss: 0.2068 - acc: 0.9401\n",
      "Epoch 7/8\n",
      "60000/60000 [==============================] - 50s 832us/step - loss: 0.2013 - acc: 0.9416\n",
      "Epoch 8/8\n",
      "60000/60000 [==============================] - 50s 830us/step - loss: 0.1946 - acc: 0.9446\n",
      "10000/10000 [==============================] - 2s 241us/step\n",
      "60000/60000 [==============================] - 13s 222us/step\n",
      "Epoch 1/9\n",
      "60000/60000 [==============================] - 67s 1ms/step - loss: 0.1495 - acc: 0.9536\n",
      "Epoch 2/9\n",
      "60000/60000 [==============================] - 67s 1ms/step - loss: 0.0756 - acc: 0.9773\n",
      "Epoch 3/9\n",
      "60000/60000 [==============================] - 67s 1ms/step - loss: 0.0587 - acc: 0.9814\n",
      "Epoch 4/9\n",
      "60000/60000 [==============================] - 66s 1ms/step - loss: 0.0489 - acc: 0.9842\n",
      "Epoch 5/9\n",
      "60000/60000 [==============================] - 66s 1ms/step - loss: 0.0401 - acc: 0.9874\n",
      "Epoch 6/9\n",
      "60000/60000 [==============================] - 66s 1ms/step - loss: 0.0361 - acc: 0.9887\n",
      "Epoch 7/9\n",
      "60000/60000 [==============================] - 66s 1ms/step - loss: 0.0325 - acc: 0.9892\n",
      "Epoch 8/9\n",
      "60000/60000 [==============================] - 67s 1ms/step - loss: 0.0307 - acc: 0.9905\n",
      "Epoch 9/9\n",
      "60000/60000 [==============================] - 66s 1ms/step - loss: 0.0293 - acc: 0.9905\n",
      "10000/10000 [==============================] - 5s 479us/step\n",
      "60000/60000 [==============================] - 27s 453us/step\n",
      "Epoch 1/3\n",
      "60000/60000 [==============================] - 89s 1ms/step - loss: 0.3575 - acc: 0.8869\n",
      "Epoch 2/3\n"
     ]
    },
    {
     "name": "stdout",
     "output_type": "stream",
     "text": [
      "60000/60000 [==============================] - 88s 1ms/step - loss: 0.1348 - acc: 0.9639\n",
      "Epoch 3/3\n",
      "60000/60000 [==============================] - 88s 1ms/step - loss: 0.1136 - acc: 0.9693\n",
      "10000/10000 [==============================] - 4s 428us/step\n",
      "60000/60000 [==============================] - 24s 400us/step\n",
      "Epoch 1/9\n",
      "60000/60000 [==============================] - 87s 1ms/step - loss: 0.1531 - acc: 0.9530\n",
      "Epoch 2/9\n",
      "60000/60000 [==============================] - 86s 1ms/step - loss: 0.0786 - acc: 0.9759\n",
      "Epoch 3/9\n",
      "60000/60000 [==============================] - 86s 1ms/step - loss: 0.0661 - acc: 0.9799\n",
      "Epoch 4/9\n",
      "60000/60000 [==============================] - 86s 1ms/step - loss: 0.0587 - acc: 0.9818\n",
      "Epoch 5/9\n",
      "60000/60000 [==============================] - 86s 1ms/step - loss: 0.0449 - acc: 0.9859\n",
      "Epoch 6/9\n",
      "60000/60000 [==============================] - 86s 1ms/step - loss: 0.0430 - acc: 0.9867\n",
      "Epoch 7/9\n",
      "60000/60000 [==============================] - 86s 1ms/step - loss: 0.0412 - acc: 0.9870\n",
      "Epoch 8/9\n",
      "60000/60000 [==============================] - 86s 1ms/step - loss: 0.0376 - acc: 0.9880\n",
      "Epoch 9/9\n",
      "60000/60000 [==============================] - 86s 1ms/step - loss: 0.0339 - acc: 0.9898\n",
      "10000/10000 [==============================] - 6s 633us/step\n",
      "60000/60000 [==============================] - 36s 608us/step\n",
      "Epoch 1/1\n",
      "60000/60000 [==============================] - 64s 1ms/step - loss: 0.2689 - acc: 0.9194\n",
      "10000/10000 [==============================] - 4s 394us/step\n",
      "60000/60000 [==============================] - 22s 369us/step\n",
      "Epoch 1/11\n",
      "60000/60000 [==============================] - 73s 1ms/step - loss: 0.3978 - acc: 0.8730\n",
      "Epoch 2/11\n",
      "60000/60000 [==============================] - 72s 1ms/step - loss: 0.1529 - acc: 0.9592\n",
      "Epoch 3/11\n",
      "60000/60000 [==============================] - 72s 1ms/step - loss: 0.1261 - acc: 0.9650\n",
      "Epoch 4/11\n",
      "60000/60000 [==============================] - 72s 1ms/step - loss: 0.1089 - acc: 0.9695\n",
      "Epoch 5/11\n",
      "60000/60000 [==============================] - 72s 1ms/step - loss: 0.1014 - acc: 0.9721\n",
      "Epoch 6/11\n",
      "60000/60000 [==============================] - 72s 1ms/step - loss: 0.0997 - acc: 0.9732\n",
      "Epoch 7/11\n",
      "60000/60000 [==============================] - 72s 1ms/step - loss: 0.0918 - acc: 0.9754\n",
      "Epoch 8/11\n",
      "60000/60000 [==============================] - 72s 1ms/step - loss: 0.0886 - acc: 0.9757\n",
      "Epoch 9/11\n",
      "60000/60000 [==============================] - 72s 1ms/step - loss: 0.0835 - acc: 0.9782\n",
      "Epoch 10/11\n",
      "60000/60000 [==============================] - 72s 1ms/step - loss: 0.0826 - acc: 0.9781\n",
      "Epoch 11/11\n",
      "60000/60000 [==============================] - 72s 1ms/step - loss: 0.0810 - acc: 0.9777\n",
      "10000/10000 [==============================] - 4s 387us/step\n",
      "60000/60000 [==============================] - 21s 349us/step\n",
      "Epoch 1/6\n",
      "60000/60000 [==============================] - 78s 1ms/step - loss: 0.6862 - acc: 0.7741\n",
      "Epoch 2/6\n",
      "60000/60000 [==============================] - 78s 1ms/step - loss: 0.3125 - acc: 0.9052\n",
      "Epoch 3/6\n",
      "60000/60000 [==============================] - 78s 1ms/step - loss: 0.2581 - acc: 0.9200\n",
      "Epoch 4/6\n",
      "60000/60000 [==============================] - 78s 1ms/step - loss: 0.2409 - acc: 0.9240\n",
      "Epoch 5/6\n",
      "60000/60000 [==============================] - 78s 1ms/step - loss: 0.2064 - acc: 0.9391\n",
      "Epoch 6/6\n",
      "60000/60000 [==============================] - 78s 1ms/step - loss: 0.1895 - acc: 0.9464\n",
      "10000/10000 [==============================] - 4s 387us/step\n",
      "60000/60000 [==============================] - 21s 345us/step\n",
      "Epoch 1/9\n",
      "60000/60000 [==============================] - 56s 925us/step - loss: 0.2001 - acc: 0.9394\n",
      "Epoch 2/9\n",
      "60000/60000 [==============================] - 55s 912us/step - loss: 0.1113 - acc: 0.9668\n",
      "Epoch 3/9\n",
      "60000/60000 [==============================] - 55s 916us/step - loss: 0.0959 - acc: 0.9708\n",
      "Epoch 4/9\n",
      "60000/60000 [==============================] - 55s 913us/step - loss: 0.0838 - acc: 0.9740\n",
      "Epoch 5/9\n",
      "60000/60000 [==============================] - 55s 912us/step - loss: 0.0782 - acc: 0.9759\n",
      "Epoch 6/9\n",
      "60000/60000 [==============================] - 55s 913us/step - loss: 0.0709 - acc: 0.9776\n",
      "Epoch 7/9\n",
      "60000/60000 [==============================] - 55s 914us/step - loss: 0.0680 - acc: 0.9787\n",
      "Epoch 8/9\n",
      "60000/60000 [==============================] - 55s 914us/step - loss: 0.0617 - acc: 0.9800\n",
      "Epoch 9/9\n",
      "60000/60000 [==============================] - 55s 911us/step - loss: 0.0613 - acc: 0.9809\n",
      "10000/10000 [==============================] - 4s 364us/step\n",
      "60000/60000 [==============================] - 19s 325us/step\n",
      "Epoch 1/14\n",
      "60000/60000 [==============================] - 71s 1ms/step - loss: 0.2759 - acc: 0.9173\n",
      "Epoch 2/14\n",
      "60000/60000 [==============================] - 70s 1ms/step - loss: 0.1303 - acc: 0.9610\n",
      "Epoch 3/14\n",
      "60000/60000 [==============================] - 69s 1ms/step - loss: 0.1048 - acc: 0.9684\n",
      "Epoch 4/14\n",
      "60000/60000 [==============================] - 70s 1ms/step - loss: 0.0922 - acc: 0.9724\n",
      "Epoch 5/14\n",
      "60000/60000 [==============================] - 69s 1ms/step - loss: 0.0840 - acc: 0.9742\n",
      "Epoch 6/14\n",
      "60000/60000 [==============================] - 69s 1ms/step - loss: 0.0758 - acc: 0.9768\n",
      "Epoch 7/14\n",
      "60000/60000 [==============================] - 70s 1ms/step - loss: 0.0685 - acc: 0.9790\n",
      "Epoch 8/14\n",
      "60000/60000 [==============================] - 70s 1ms/step - loss: 0.0662 - acc: 0.9795\n",
      "Epoch 9/14\n",
      "60000/60000 [==============================] - 69s 1ms/step - loss: 0.0608 - acc: 0.9816\n",
      "Epoch 10/14\n",
      "60000/60000 [==============================] - 69s 1ms/step - loss: 0.0587 - acc: 0.9820\n",
      "Epoch 11/14\n",
      "60000/60000 [==============================] - 70s 1ms/step - loss: 0.0579 - acc: 0.9819\n",
      "Epoch 12/14\n",
      "60000/60000 [==============================] - 70s 1ms/step - loss: 0.0549 - acc: 0.9830\n",
      "Epoch 13/14\n",
      "60000/60000 [==============================] - 69s 1ms/step - loss: 0.0521 - acc: 0.9830\n",
      "Epoch 14/14\n",
      "60000/60000 [==============================] - 69s 1ms/step - loss: 0.0508 - acc: 0.9843\n",
      "10000/10000 [==============================] - 5s 507us/step\n",
      "60000/60000 [==============================] - 28s 465us/step\n",
      "Epoch 1/1\n",
      "60000/60000 [==============================] - 48s 806us/step - loss: 0.3069 - acc: 0.9070\n",
      "10000/10000 [==============================] - 3s 328us/step\n",
      "60000/60000 [==============================] - 17s 282us/step\n",
      "Best: 0.991900 using {'activation': 'relu', 'depth': 2, 'dropout': 0.5002740986638146, 'epochs': 11, 'filters': 82, 'hidden': 142}\n"
     ]
    },
    {
     "name": "stderr",
     "output_type": "stream",
     "text": [
      "[Parallel(n_jobs=1)]: Done  16 out of  16 | elapsed: 150.8min finished\n"
     ]
    }
   ],
   "source": [
    "param_distributions = {\n",
    "    'epochs': scipy.stats.randint(1, 16),\n",
    "    'activation': ['relu', 'elu'],\n",
    "    'depth': scipy.stats.randint(1, 3),\n",
    "    'filters': scipy.stats.randint(32, 128),\n",
    "    'hidden': scipy.stats.randint(64, 256),\n",
    "    'dropout': scipy.stats.norm(loc=0.5, scale=0.1)\n",
    "}\n",
    "grid = RandomizedSearchCV(estimator=classifier, \n",
    "                    param_distributions=param_distributions, \n",
    "                    refit=False,\n",
    "                    verbose=1,\n",
    "                    n_iter=16,\n",
    "                    cv=train_test_data)\n",
    "grid_result = grid.fit(all_images, all_labels)\n",
    "print(\"Best: %f using %s\" % (grid_result.best_score_, grid_result.best_params_))"
   ]
  },
  {
   "cell_type": "markdown",
   "metadata": {},
   "source": [
    "That's pretty cool. I bet you never would have picked those parameters by hand -- *panda* style!"
   ]
  },
  {
   "cell_type": "code",
   "execution_count": null,
   "metadata": {},
   "outputs": [],
   "source": []
  }
 ],
 "metadata": {
  "kernelspec": {
   "display_name": "Python 3",
   "language": "python",
   "name": "python3"
  },
  "language_info": {
   "codemirror_mode": {
    "name": "ipython",
    "version": 3
   },
   "file_extension": ".py",
   "mimetype": "text/x-python",
   "name": "python",
   "nbconvert_exporter": "python",
   "pygments_lexer": "ipython3",
   "version": "3.11.2"
  }
 },
 "nbformat": 4,
 "nbformat_minor": 2
}
