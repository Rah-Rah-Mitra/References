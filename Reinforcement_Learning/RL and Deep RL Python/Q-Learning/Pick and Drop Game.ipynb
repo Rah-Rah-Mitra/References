{
 "cells": [
  {
   "cell_type": "code",
   "execution_count": 2,
   "metadata": {},
   "outputs": [],
   "source": [
    "# Environment class keeping track of all actions/positions\n",
    "class Field:\n",
    "    def __init__(self, size, item_pickup, item_dropoff, start_position):\n",
    "        self.size = size #grid size\n",
    "        self.item_pickup = item_pickup #item pickup coardinate\n",
    "        self.item_dropoff = item_dropoff #item dropoff coardinate\n",
    "        self.position = start_position #agent position at start when init\n",
    "        self.item_in_car = False\n",
    "\n",
    "    def get_number_of_states(self):\n",
    "        return self.size**4 * 2 #no. of states: \n",
    "                                    #item_pickup 10*10 locations\n",
    "                                    #item_dropoff 10*10 locations \n",
    "                                    #item_in_car 2 possibilites\n",
    "\n",
    "    def get_state(self): #assigning the state it y-axis value in q-table (20000)\n",
    "        state = self.position[0] * self.size**3 * 2          #lets say player position is at (9,0) and item at (0,0) \n",
    "        state = state + self.position[1] * self.size**2 * 2  #we are taking all the possibilities and numbering the states\n",
    "        state = state + self.item_pickup[0] * self.size * 2  #and assigning the state value with respect to player pos\n",
    "        state = state + self.item_pickup[1] * 2\n",
    "\n",
    "        if self.item_in_car:\n",
    "            state = state + 1\n",
    "        return state\n",
    "\n",
    "    def make_action(self,action):\n",
    "        (x,y)= self.position\n",
    "        if action == 0:   # down\n",
    "            if y == self.size -1:\n",
    "                return -10, False #Reward,Reached Goal\n",
    "            else: \n",
    "                self.position = (x, y+1)\n",
    "                return -1, False\n",
    "            \n",
    "        elif action == 1: # up\n",
    "            if y == 0:\n",
    "                return -10, False #Reward,Reached Goal\n",
    "            else: \n",
    "                self.position = (x, y-1)\n",
    "                return -1, False\n",
    "            \n",
    "        elif action == 2: # left\n",
    "            if x == 0:\n",
    "                return -10, False #Reward,Reached Goal\n",
    "            else: \n",
    "                self.position = (x-1, y)\n",
    "                return -1, False\n",
    "            \n",
    "        elif action == 3: # right\n",
    "            if x == self.size -1:\n",
    "                return -10, False #Reward,Reached Goal\n",
    "            else: \n",
    "                self.position = (x+1, y)\n",
    "                return -1, False\n",
    "            \n",
    "        elif action == 4: # pickup\n",
    "            if self.item_in_car: #item already in car\n",
    "                return -10, False\n",
    "            elif self.item_pickup != (x,y): #item not at current position\n",
    "                return -10, False\n",
    "            else:\n",
    "                self.item_in_car = True #item at playerpos and item not in car\n",
    "                return +20, False\n",
    "            \n",
    "        elif action == 5: # dropoff\n",
    "            if not self.item_in_car: #item not in car and try to dropoff\n",
    "                return -10, False\n",
    "            elif self.item_dropoff != (x,y): #item in car but drop off wrong location\n",
    "                self.item_pickup = (x,y)\n",
    "                self.item_in_car = False\n",
    "                return -10, False\n",
    "            else: #item in  car and correct dropoff location\n",
    "                self.item_in_car = False\n",
    "                return 20, True"
   ]
  },
  {
   "cell_type": "code",
   "execution_count": 41,
   "metadata": {},
   "outputs": [],
   "source": [
    "size = 10\n",
    "item_pickup = (0,0)\n",
    "item_dropoff = (9,9)\n",
    "start_position = (9,0)\n",
    "\n",
    "field = Field(size=size,item_pickup=item_pickup,item_dropoff=item_dropoff,start_position=start_position)"
   ]
  },
  {
   "cell_type": "code",
   "execution_count": 42,
   "metadata": {},
   "outputs": [
    {
     "data": {
      "text/plain": [
       "(9, 0)"
      ]
     },
     "execution_count": 42,
     "metadata": {},
     "output_type": "execute_result"
    }
   ],
   "source": [
    "field.position #players current position"
   ]
  },
  {
   "cell_type": "code",
   "execution_count": 44,
   "metadata": {},
   "outputs": [
    {
     "data": {
      "text/plain": [
       "(20, True, False)"
      ]
     },
     "execution_count": 44,
     "metadata": {},
     "output_type": "execute_result"
    }
   ],
   "source": [
    "#Playing game Manually\n",
    "for _ in range(0,9): # 9 loops\n",
    "    field.make_action(2) # go left 9 times\n",
    "\n",
    "field.make_action(4) #pickup item\n",
    "\n",
    "for _ in range(0,9): # 9 loops\n",
    "    field.make_action(0) # go down 9 times\n",
    "    \n",
    "for _ in range(0,9): # 9 loops\n",
    "    field.make_action(3) #go right 9 times\n",
    "\n",
    "reward,done = field.make_action(5) #drop off at correct position\n",
    "\n",
    "reward, done, field.item_in_car #item no longer in car\n"
   ]
  },
  {
   "cell_type": "code",
   "execution_count": 2,
   "metadata": {},
   "outputs": [],
   "source": [
    "import random"
   ]
  },
  {
   "cell_type": "code",
   "execution_count": 45,
   "metadata": {},
   "outputs": [],
   "source": [
    "def random_solution():\n",
    "    \n",
    "    field = Field(size=size,item_pickup=item_pickup,item_dropoff=item_dropoff,start_position=start_position)\n",
    "    done = False\n",
    "    steps = 0\n",
    "\n",
    "    while not done:\n",
    "        action = random.randint(0,5)\n",
    "        reward,done = field.make_action(action)\n",
    "        steps = steps + 1\n",
    "\n",
    "    return steps"
   ]
  },
  {
   "cell_type": "code",
   "execution_count": 49,
   "metadata": {},
   "outputs": [
    {
     "data": {
      "text/plain": [
       "119248"
      ]
     },
     "execution_count": 49,
     "metadata": {},
     "output_type": "execute_result"
    }
   ],
   "source": [
    "random_solution()"
   ]
  },
  {
   "cell_type": "code",
   "execution_count": 46,
   "metadata": {},
   "outputs": [],
   "source": [
    "run = [random_solution() for _ in range(100)]"
   ]
  },
  {
   "cell_type": "code",
   "execution_count": 47,
   "metadata": {},
   "outputs": [
    {
     "data": {
      "text/plain": [
       "157643.74"
      ]
     },
     "execution_count": 47,
     "metadata": {},
     "output_type": "execute_result"
    }
   ],
   "source": [
    "sum(run)/len(run) #average runs"
   ]
  },
  {
   "cell_type": "code",
   "execution_count": 64,
   "metadata": {},
   "outputs": [],
   "source": [
    "import numpy as np"
   ]
  },
  {
   "cell_type": "code",
   "execution_count": 65,
   "metadata": {},
   "outputs": [],
   "source": [
    "# Q-Learning Algo\n",
    "size = 10\n",
    "item_pickup = (0,0)\n",
    "item_dropoff = (9,9)\n",
    "start_position = (9,0)\n",
    "\n",
    "field = Field(size=size,item_pickup=item_pickup,item_dropoff=item_dropoff,start_position=start_position)\n",
    "\n",
    "number_of_states = field.get_number_of_states()\n",
    "number_of_actions = 6 #0-5\n",
    "\n",
    "q_table = np.zeros((number_of_states,number_of_actions))\n",
    "\n",
    "#Hyperparameters, dont worry about them now\n",
    "epsilon = 0.1\n",
    "alpha = 0.1\n",
    "gamma = 0.6\n",
    "\n",
    "for _ in range(10000): #agent plays game 10000 times and updates q-table (Training Phase)\n",
    "    field = Field(size=size,item_pickup=item_pickup,item_dropoff=item_dropoff,start_position=start_position)\n",
    "    done = False\n",
    "\n",
    "    while not done:\n",
    "        state = field.get_state()\n",
    "        if random.uniform(0,1) < epsilon:\n",
    "            action = random.randint(0,5) #Exploration\n",
    "        else:\n",
    "            action = np.argmax(q_table[state]) #Exploitation\n",
    "\n",
    "        reward, done = field.make_action(action)\n",
    "        new_state = field.get_state()\n",
    "        new_state_max = np.max(q_table[new_state])\n",
    "\n",
    "        q_table[state,action] = (1-alpha)*q_table[state,action] + alpha*(reward + gamma*new_state_max - q_table[state,action])\n",
    "\n",
    "\n",
    "\n"
   ]
  },
  {
   "cell_type": "code",
   "execution_count": 66,
   "metadata": {},
   "outputs": [
    {
     "data": {
      "text/plain": [
       "(array([[ 0.23071429, -2.06428571, -2.06428571,  0.23071429,  9.78571429,\n",
       "         -2.06428571],\n",
       "        [-0.71428571, -5.21428571, -5.21428571, -0.71428571, -5.21428571,\n",
       "         -2.06428571],\n",
       "        [ 1.13750493, -1.        , -1.        , -0.1       , -1.        ,\n",
       "         -1.        ],\n",
       "        ...,\n",
       "        [-1.91530129,  0.11774602, -0.186     , -1.18383244, -1.46204729,\n",
       "         10.43572895],\n",
       "        [ 0.        ,  0.        ,  0.        ,  0.        ,  0.        ,\n",
       "          0.        ],\n",
       "        [ 0.        ,  0.        ,  0.        ,  0.        ,  0.        ,\n",
       "          0.        ]]),\n",
       " (20000, 6))"
      ]
     },
     "execution_count": 66,
     "metadata": {},
     "output_type": "execute_result"
    }
   ],
   "source": [
    "q_table , q_table.shape"
   ]
  },
  {
   "cell_type": "code",
   "execution_count": 90,
   "metadata": {},
   "outputs": [],
   "source": [
    "def reinforcement_solution():\n",
    "    field = Field(size=size,item_pickup=item_pickup,item_dropoff=item_dropoff,start_position=start_position)\n",
    "    \n",
    "    epsilon = 0.1\n",
    "    alpha = 0.1\n",
    "    gamma = 0.6\n",
    "    \n",
    "    done = False\n",
    "    steps = 0\n",
    "    \n",
    "    while not done:\n",
    "        state = field.get_state()\n",
    "        if random.uniform(0,1) < epsilon:\n",
    "            action = random.randint(0,5) #Explore\n",
    "        else:\n",
    "            action = np.argmax(q_table[state]) #Exploit\n",
    "            \n",
    "        reward, done = field.make_action(action)\n",
    "        \n",
    "        new_state = field.get_state()\n",
    "        new_state_max = np.max(q_table[new_state])\n",
    "        \n",
    "        q_table[state, action] = (1-alpha)*q_table[state, action]+alpha*(reward+gamma*new_state_max - q_table[state, action])\n",
    "                        \n",
    "        steps = steps +1\n",
    "        \n",
    "    return steps"
   ]
  },
  {
   "cell_type": "code",
   "execution_count": 3,
   "metadata": {},
   "outputs": [
    {
     "data": {
      "text/plain": [
       "0.2269799216496774"
      ]
     },
     "execution_count": 3,
     "metadata": {},
     "output_type": "execute_result"
    }
   ],
   "source": [
    "random.uniform(0,1)"
   ]
  },
  {
   "cell_type": "code",
   "execution_count": 8,
   "metadata": {},
   "outputs": [
    {
     "name": "stdout",
     "output_type": "stream",
     "text": [
      "0 -->Exploring\n",
      "1 -->Exploring\n",
      "2 -->Exploring\n",
      "3 -->Exploring\n",
      "4 -->Exploring\n",
      "5 -->Exploring\n",
      "6 -->Exploring\n",
      "7 -->Exploring\n",
      "8 -->Exploring\n",
      "9 -->Exploring\n",
      "10 -->Exploring\n",
      "11 -->Exploring\n",
      "12 -->Exploring\n",
      "13 -->Exploring\n",
      "14 -->Exploring\n",
      "15 -->Exploring\n",
      "16 -->Exploring\n",
      "17 -->Exploring\n",
      "18 -->Exploiting\n",
      "19 -->Exploring\n",
      "20 -->Exploring\n",
      "21 -->Exploring\n",
      "22 -->Exploring\n",
      "23 -->Exploring\n",
      "24 -->Exploiting\n",
      "25 -->Exploring\n",
      "26 -->Exploring\n",
      "27 -->Exploiting\n",
      "28 -->Exploring\n",
      "29 -->Exploiting\n",
      "30 -->Exploring\n",
      "31 -->Exploring\n",
      "32 -->Exploring\n",
      "33 -->Exploiting\n",
      "34 -->Exploring\n",
      "35 -->Exploring\n",
      "36 -->Exploring\n",
      "37 -->Exploring\n",
      "38 -->Exploiting\n",
      "39 -->Exploring\n",
      "40 -->Exploring\n",
      "41 -->Exploring\n",
      "42 -->Exploiting\n",
      "43 -->Exploring\n",
      "44 -->Exploiting\n",
      "45 -->Exploiting\n",
      "46 -->Exploiting\n",
      "47 -->Exploiting\n",
      "48 -->Exploiting\n",
      "49 -->Exploiting\n",
      "50 -->Exploring\n",
      "51 -->Exploring\n",
      "52 -->Exploiting\n",
      "53 -->Exploiting\n",
      "54 -->Exploring\n",
      "55 -->Exploiting\n",
      "56 -->Exploiting\n",
      "57 -->Exploiting\n",
      "58 -->Exploiting\n",
      "59 -->Exploring\n",
      "60 -->Exploiting\n",
      "61 -->Exploiting\n",
      "62 -->Exploiting\n",
      "63 -->Exploring\n",
      "64 -->Exploiting\n",
      "65 -->Exploiting\n",
      "66 -->Exploring\n",
      "67 -->Exploiting\n",
      "68 -->Exploiting\n",
      "69 -->Exploring\n",
      "70 -->Exploring\n",
      "71 -->Exploiting\n",
      "72 -->Exploring\n",
      "73 -->Exploiting\n",
      "74 -->Exploiting\n",
      "75 -->Exploring\n",
      "76 -->Exploiting\n",
      "77 -->Exploiting\n",
      "78 -->Exploiting\n",
      "79 -->Exploiting\n",
      "80 -->Exploiting\n",
      "81 -->Exploiting\n",
      "82 -->Exploiting\n",
      "83 -->Exploring\n",
      "84 -->Exploiting\n",
      "85 -->Exploiting\n",
      "86 -->Exploiting\n",
      "87 -->Exploiting\n",
      "88 -->Exploring\n",
      "89 -->Exploiting\n",
      "90 -->Exploiting\n",
      "91 -->Exploiting\n",
      "92 -->Exploiting\n",
      "93 -->Exploring\n",
      "94 -->Exploiting\n",
      "95 -->Exploiting\n",
      "96 -->Exploring\n",
      "97 -->Exploiting\n",
      "98 -->Exploiting\n",
      "99 -->Exploring\n"
     ]
    }
   ],
   "source": [
    "ep = 1 #initially epsilon is 1 so any valu would be less than 1 so mainly exploration will occur\n",
    "explore = 0\n",
    "exploit = 0\n",
    "\n",
    "for index,i in enumerate(range(0,100)):\n",
    "    if random.uniform(0,1) < ep:\n",
    "        print(index,\"-->Exploring\") #\n",
    "        # explore = explore + 1\n",
    "    else:\n",
    "        print(index,\"-->Exploiting\") #\n",
    "        # exploit = exploit + 1\n",
    "\n",
    "    ep = ep - 0.01\n",
    "    # print(index, \"Explore:\", explore, \"Exploit:\", exploit) "
   ]
  },
  {
   "cell_type": "code",
   "execution_count": 107,
   "metadata": {},
   "outputs": [
    {
     "data": {
      "text/plain": [
       "32"
      ]
     },
     "execution_count": 107,
     "metadata": {},
     "output_type": "execute_result"
    }
   ],
   "source": [
    "reinforcement_solution()"
   ]
  },
  {
   "cell_type": "code",
   "execution_count": 108,
   "metadata": {},
   "outputs": [],
   "source": [
    "# lets run it for another 100 time\n",
    "run = [reinforcement_solution() for _ in range(10000)]"
   ]
  },
  {
   "cell_type": "code",
   "execution_count": 111,
   "metadata": {},
   "outputs": [
    {
     "data": {
      "text/plain": [
       "44.7127"
      ]
     },
     "execution_count": 111,
     "metadata": {},
     "output_type": "execute_result"
    }
   ],
   "source": [
    "sum(run)/len(run)"
   ]
  },
  {
   "cell_type": "code",
   "execution_count": 35,
   "metadata": {},
   "outputs": [
    {
     "data": {
      "text/plain": [
       "array([[ 0.23071429, -2.06428571, -2.06428571,  0.23071429,  9.78571429,\n",
       "        -2.06428571],\n",
       "       [-0.71428571, -5.21428571, -5.21428571, -0.71428571, -5.21428571,\n",
       "        -2.06428571],\n",
       "       [ 2.4348785 , -1.        , -1.        , -0.1       , -1.        ,\n",
       "        -1.        ],\n",
       "       ...,\n",
       "       [-1.63093941,  0.20637121, -0.25135865, -1.80124927, -1.83279121,\n",
       "        10.4707118 ],\n",
       "       [ 0.        ,  0.        ,  0.        ,  0.        ,  0.        ,\n",
       "         0.        ],\n",
       "       [ 0.        ,  0.        ,  0.        ,  0.        ,  0.        ,\n",
       "         0.        ]])"
      ]
     },
     "execution_count": 35,
     "metadata": {},
     "output_type": "execute_result"
    }
   ],
   "source": [
    "q_table"
   ]
  }
 ],
 "metadata": {
  "kernelspec": {
   "display_name": "Python 3",
   "language": "python",
   "name": "python3"
  },
  "language_info": {
   "codemirror_mode": {
    "name": "ipython",
    "version": 3
   },
   "file_extension": ".py",
   "mimetype": "text/x-python",
   "name": "python",
   "nbconvert_exporter": "python",
   "pygments_lexer": "ipython3",
   "version": "3.11.2"
  },
  "orig_nbformat": 4
 },
 "nbformat": 4,
 "nbformat_minor": 2
}
