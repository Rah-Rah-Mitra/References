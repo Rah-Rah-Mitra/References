{
 "cells": [
  {
   "cell_type": "code",
   "execution_count": 58,
   "metadata": {},
   "outputs": [],
   "source": [
    "import numpy as np\n",
    "import gym\n",
    "import random"
   ]
  },
  {
   "cell_type": "code",
   "execution_count": 93,
   "metadata": {},
   "outputs": [],
   "source": [
    "env = gym.make('FrozenLake-v1', desc=None, map_name=\"4x4\", is_slippery = False)"
   ]
  },
  {
   "cell_type": "code",
   "execution_count": 110,
   "metadata": {},
   "outputs": [
    {
     "data": {
      "text/plain": [
       "array([[0., 0., 0., 0.],\n",
       "       [0., 0., 0., 0.],\n",
       "       [0., 0., 0., 0.],\n",
       "       [0., 0., 0., 0.],\n",
       "       [0., 0., 0., 0.],\n",
       "       [0., 0., 0., 0.],\n",
       "       [0., 0., 0., 0.],\n",
       "       [0., 0., 0., 0.],\n",
       "       [0., 0., 0., 0.],\n",
       "       [0., 0., 0., 0.],\n",
       "       [0., 0., 0., 0.],\n",
       "       [0., 0., 0., 0.],\n",
       "       [0., 0., 0., 0.],\n",
       "       [0., 0., 0., 0.],\n",
       "       [0., 0., 0., 0.],\n",
       "       [0., 0., 0., 0.]])"
      ]
     },
     "execution_count": 110,
     "metadata": {},
     "output_type": "execute_result"
    }
   ],
   "source": [
    "action_space_size = env.action_space.n #4 actions\n",
    "state_space_size = env.observation_space.n #16 States\n",
    "\n",
    "qtable = np.zeros((state_space_size,action_space_size)) #ROWS,COLUMNS\n",
    "qtable"
   ]
  },
  {
   "cell_type": "code",
   "execution_count": 111,
   "metadata": {},
   "outputs": [],
   "source": [
    "total_episodes = 10000 #no.of times agent plays game\n",
    "learning_rate = 0.2 #Alpha\n",
    "max_steps = 100 #loop terminates after 100 steps\n",
    "gamma = 0.9 #Discount Factor\n",
    "\n",
    "epsilon = 1 #explore or exploit\n",
    "max_epsilon = 1\n",
    "min_epsilon = 0.01\n",
    "decay_rate = 0.001"
   ]
  },
  {
   "cell_type": "code",
   "execution_count": 101,
   "metadata": {},
   "outputs": [
    {
     "name": "stdout",
     "output_type": "stream",
     "text": [
      "Score: 0.8803\n",
      "[[0.531441   0.59049    0.59049    0.531441  ]\n",
      " [0.531441   0.         0.6561     0.59049   ]\n",
      " [0.59049    0.729      0.59049    0.6561    ]\n",
      " [0.6561     0.         0.59042529 0.59046225]\n",
      " [0.59049    0.6561     0.         0.531441  ]\n",
      " [0.         0.         0.         0.        ]\n",
      " [0.         0.81       0.         0.6561    ]\n",
      " [0.         0.         0.         0.        ]\n",
      " [0.6561     0.         0.729      0.59049   ]\n",
      " [0.6561     0.81       0.81       0.        ]\n",
      " [0.729      0.9        0.         0.729     ]\n",
      " [0.         0.         0.         0.        ]\n",
      " [0.         0.         0.         0.        ]\n",
      " [0.         0.81       0.9        0.729     ]\n",
      " [0.81       0.9        1.         0.81      ]\n",
      " [0.         0.         0.         0.        ]]\n"
     ]
    }
   ],
   "source": [
    "#  def converged(qtable):\n",
    "#      if (list_qtable[-1] - (sum(list_qtable[-5:-1])/5)      #Calculate Percentage difference between matrices to\n",
    "#                  / (sum(list_qtable[-5:-1])/5)) < 0.001: #Check for convergence,where change in q-table values minimum(<0.001 or 0.1%)\n",
    "#          return True\n",
    "#      else: \n",
    "#          return False\n",
    "#  \n",
    "# list_qtable = []\n",
    "rewards = []\n",
    "\n",
    "for episode in range(total_episodes):\n",
    "    state, n = env.reset() #initialise the env\n",
    "    step = 0\n",
    "    done = False\n",
    "    total_rewards = 0\n",
    "    for step in range(max_steps):\n",
    "        \n",
    "        if random.uniform(0,1) > epsilon:\n",
    "            action = np.argmax(qtable[state,:]) # Exploit #get the maximum value of actions from the state row\n",
    "        else:\n",
    "            action = env.action_space.sample() # Explore\n",
    "            \n",
    "        new_state, reward, done, truncated , info = env.step(action) #Gym provies new state in this function\n",
    "\n",
    "\n",
    "        max_new_state = np.max(qtable[new_state,:]) \n",
    "        \n",
    "        qtable[state,action] = qtable[state,action] + learning_rate*(reward+gamma*max_new_state-qtable[state,action])\n",
    "        total_rewards += reward\n",
    "        \n",
    "        state = new_state\n",
    "        if done:\n",
    "            break\n",
    "            \n",
    "    # list_qtable.append(qtable)        \n",
    "    epsilon = min_epsilon + (max_epsilon - min_epsilon)*np.exp(-decay_rate*episode)\n",
    "    rewards.append(total_rewards)\n",
    "\n",
    "#     if converged(qtable):\n",
    "#         break\n",
    "    \n",
    "print(\"Score:\", str(sum(rewards)/total_episodes))\n",
    "print(qtable)"
   ]
  },
  {
   "attachments": {},
   "cell_type": "markdown",
   "metadata": {},
   "source": [
    "Sarsa"
   ]
  },
  {
   "cell_type": "code",
   "execution_count": 112,
   "metadata": {},
   "outputs": [
    {
     "name": "stdout",
     "output_type": "stream",
     "text": [
      "Score: 0.8761\n",
      "[[0.48265676 0.46212176 0.5904112  0.48702526]\n",
      " [0.50767448 0.         0.65607973 0.5109884 ]\n",
      " [0.51713088 0.72899652 0.50335974 0.51542758]\n",
      " [0.53953866 0.         0.12865984 0.17513263]\n",
      " [0.39995777 0.38346984 0.         0.52526137]\n",
      " [0.         0.         0.         0.        ]\n",
      " [0.         0.8099997  0.         0.64518636]\n",
      " [0.         0.         0.         0.        ]\n",
      " [0.46495995 0.         0.49244281 0.46587264]\n",
      " [0.5624297  0.80848461 0.65463171 0.        ]\n",
      " [0.72623299 0.9        0.         0.72510451]\n",
      " [0.         0.         0.         0.        ]\n",
      " [0.         0.         0.         0.        ]\n",
      " [0.         0.78242783 0.8997924  0.65936748]\n",
      " [0.80780367 0.89999826 1.         0.80699268]\n",
      " [0.         0.         0.         0.        ]]\n"
     ]
    }
   ],
   "source": [
    "rewards = []\n",
    "\n",
    "for episode in range(total_episodes):\n",
    "    state, n = env.reset() #initialise the env\n",
    "    step = 0\n",
    "    done = False\n",
    "    total_rewards = 0\n",
    "    for step in range(max_steps):\n",
    "        \n",
    "        if random.uniform(0,1) > epsilon: # Max Action\n",
    "            action = np.argmax(qtable[state,:]) # Exploit #get the maximum value of actions from the state row\n",
    "        else:\n",
    "            action = env.action_space.sample() # Explore\n",
    "            \n",
    "        new_state, reward, done, truncated , info = env.step(action) #Gym provies new state in this function\n",
    "\n",
    "        if random.uniform(0,1) > epsilon: # New_Action\n",
    "            new_action = np.argmax(qtable[new_state,:]) # Exploit #get the maximum value of actions from the state row\n",
    "        else:\n",
    "            new_action = env.action_space.sample() # Explore\n",
    "\n",
    "        SARSA_new_state = qtable[new_state,new_action]\n",
    "        \n",
    "        qtable[state,action] = qtable[state,action] + learning_rate*(reward+gamma*SARSA_new_state-qtable[state,action])\n",
    "        total_rewards += reward\n",
    "        \n",
    "        state = new_state\n",
    "        if done:\n",
    "            break\n",
    "            \n",
    "    # list_qtable.append(qtable)        \n",
    "    epsilon = min_epsilon + (max_epsilon - min_epsilon)*np.exp(-decay_rate*episode)\n",
    "    rewards.append(total_rewards)\n",
    "\n",
    "#     if converged(qtable):\n",
    "#         break\n",
    "    \n",
    "print(\"Score:\", str(sum(rewards)/total_episodes))\n",
    "print(qtable)"
   ]
  },
  {
   "cell_type": "code",
   "execution_count": 103,
   "metadata": {},
   "outputs": [
    {
     "name": "stdout",
     "output_type": "stream",
     "text": [
      "Episode: 1\n",
      "Number of Steps: 5\n",
      "Episode: 2\n",
      "Number of Steps: 5\n",
      "Episode: 3\n",
      "Number of Steps: 5\n",
      "Episode: 4\n",
      "Number of Steps: 5\n",
      "Episode: 5\n",
      "Number of Steps: 5\n",
      "Episode: 6\n",
      "Number of Steps: 5\n"
     ]
    }
   ],
   "source": [
    "env.reset()\n",
    "\n",
    "for episode in range(6):\n",
    "    state,n = env.reset()\n",
    "    step = 0\n",
    "    done = False\n",
    "    \n",
    "    print(\"Episode:\", episode+1)\n",
    "    \n",
    "    for step in range(max_steps):\n",
    "        action = np.argmax(qtable[state,:])\n",
    "        new_state, reward, done, truncated , info = env.step(action)\n",
    "        env.render()\n",
    "        if done:\n",
    "            \n",
    "            print(\"Number of Steps:\", step)\n",
    "            break\n",
    "        state = new_state\n",
    "        \n",
    "env.close()\n",
    "        \n"
   ]
  }
 ],
 "metadata": {
  "kernelspec": {
   "display_name": "Python 3",
   "language": "python",
   "name": "python3"
  },
  "language_info": {
   "codemirror_mode": {
    "name": "ipython",
    "version": 3
   },
   "file_extension": ".py",
   "mimetype": "text/x-python",
   "name": "python",
   "nbconvert_exporter": "python",
   "pygments_lexer": "ipython3",
   "version": "3.11.2"
  },
  "orig_nbformat": 4
 },
 "nbformat": 4,
 "nbformat_minor": 2
}
