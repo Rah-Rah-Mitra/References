{
 "cells": [
  {
   "cell_type": "code",
   "execution_count": 2,
   "metadata": {},
   "outputs": [],
   "source": [
    "import gym\n",
    "import math\n",
    "import random\n",
    "import numpy as np\n",
    "import matplotlib\n",
    "import matplotlib.pyplot as plt\n",
    "from collections import namedtuple\n",
    "from itertools import count\n",
    "from PIL import Image\n",
    "import tensorflow\n",
    "import keras\n",
    "from keras.datasets import mnist\n",
    "from keras.layers import Input, Dense, Flatten, MaxPooling2D, MaxPooling1D, Conv2D, Reshape, Dropout\n",
    "from keras.layers import BatchNormalization, ZeroPadding2D\n",
    "from keras.models import Model, Sequential\n",
    "from keras import regularizers\n",
    "import numpy as np\n",
    "import matplotlib.pyplot as plt\n",
    "import csv\n",
    "import zipfile\n",
    "from skimage.transform import resize\n",
    "from sklearn.metrics import classification_report\n",
    "\n",
    "is_ipython = 'inline' in matplotlib.get_backend()\n",
    "if is_ipython: from IPython import display"
   ]
  },
  {
   "cell_type": "code",
   "execution_count": 6,
   "metadata": {},
   "outputs": [],
   "source": [
    "class DQN(keras.Model):\n",
    "    def __init__(self, img_height, img_width):\n",
    "        super().__init__()\n",
    "        input_shape = img_height*img_width*3\n",
    "\n",
    "        self.model = Sequential()\n",
    "        self.model.add(Reshape(input_shape, input_shape=input_shape))\n",
    "        self.model.add(Conv2D(32, kernel_size=(3, 3), activation='relu'))\n",
    "        self.model.add(Conv2D(64, (3, 3), activation='relu'))\n",
    "        self.model.add(MaxPooling2D(pool_size=(2, 2)))\n",
    "        self.model.add(Flatten())\n",
    "        self.model.add(Dense(128, activation='relu'))\n",
    "        self.model.add(Dropout(0.2))\n",
    "        self.model.add(BatchNormalization())\n",
    "        self.model.add(Dense(128, activation='relu'))\n",
    "        self.model.add(Dense(2, activation='softmax'))\n",
    "\n",
    "        self.model.compile(loss='catergorical_crossentropy',\n",
    "                    optimizer='adam',\n",
    "                    metrics=['accuracy'])\n",
    "        \n",
    "    def Fit(self,train_images,train_labels,batch_size,test_images,test_labels):\n",
    "        self.model.fit(train_images, train_labels,\n",
    "        batch_size=batch_size,\n",
    "        epochs=8,\n",
    "        validation_data=(test_images, test_labels))"
   ]
  },
  {
   "cell_type": "code",
   "execution_count": 7,
   "metadata": {},
   "outputs": [
    {
     "data": {
      "text/plain": [
       "(Experience(state=2, action=3, next_state=1, reward=4), 3)"
      ]
     },
     "execution_count": 7,
     "metadata": {},
     "output_type": "execute_result"
    }
   ],
   "source": [
    "Experience = namedtuple(\n",
    "    'Experience',\n",
    "    ('state', 'action', 'next_state', 'reward')\n",
    ")\n",
    "\n",
    "e = Experience(2,3,1,4) \n",
    "e, e[1]"
   ]
  },
  {
   "cell_type": "code",
   "execution_count": null,
   "metadata": {},
   "outputs": [],
   "source": [
    "class ReplayMemory():\n",
    "    def __init__(self, capacity):\n",
    "        self.capacity = capacity #Max Memory\n",
    "        self.memory = []\n",
    "        self.push_count = 0\n",
    "        \n",
    "    def push(self, experience):\n",
    "        if len(self.memory) < self.capacity:\n",
    "            self.memory.append(experience) #Append Experiences\n",
    "        else:\n",
    "            self.memory[self.push_count % self.capacity] = experience #% is used to grab remainder after division\n",
    "        self.push_count += 1\n",
    "        \n",
    "    def sample(self, batch_size): #sample random batch from replay memory\n",
    "        return random.sample(self.memory, batch_size)\n",
    "    \n",
    "    def can_provide_sample(self, batch_size): #to ensure we can provide the required batchsize and there is sufficient experiences\n",
    "        return len(self.memory) >= batch_size"
   ]
  }
 ],
 "metadata": {
  "kernelspec": {
   "display_name": "Python 3",
   "language": "python",
   "name": "python3"
  },
  "language_info": {
   "codemirror_mode": {
    "name": "ipython",
    "version": 3
   },
   "file_extension": ".py",
   "mimetype": "text/x-python",
   "name": "python",
   "nbconvert_exporter": "python",
   "pygments_lexer": "ipython3",
   "version": "3.11.2"
  },
  "orig_nbformat": 4
 },
 "nbformat": 4,
 "nbformat_minor": 2
}
